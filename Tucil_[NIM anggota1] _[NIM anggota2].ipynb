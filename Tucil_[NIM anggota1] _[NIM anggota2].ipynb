{
  "cells": [
    {
      "cell_type": "markdown",
      "metadata": {},
      "source": [
        "1. Membaca dataset (load dataset)"
      ]
    },
    {
      "cell_type": "code",
      "execution_count": 1,
      "metadata": {
        "trusted": true
      },
      "outputs": [],
      "source": [
        "from sklearn import datasets\n",
        "import pandas as pd\n",
        "\n",
        "bc = datasets.load_breast_cancer()\n",
        "df_bc = pd.DataFrame(bc.data, columns = bc.feature_names)\n",
        "df_bc[\"target\"] = bc.target\n",
        "\n",
        "x_bc = df_bc.iloc[:, :-1]\n",
        "y_bc = df_bc[\"target\"]"
      ]
    },
    {
      "cell_type": "code",
      "execution_count": 2,
      "metadata": {
        "trusted": true
      },
      "outputs": [],
      "source": [
        "from sklearn.model_selection import train_test_split\n",
        "\n",
        "x_train_bc, x_test_bc, y_train_bc, y_test_bc = train_test_split(\n",
        "    x_bc, \n",
        "    y_bc, \n",
        "    test_size = 0.2, \n",
        "    random_state = 568\n",
        ")"
      ]
    },
    {
      "cell_type": "markdown",
      "metadata": {},
      "source": [
        "2. Melakukan Pembelajaran\n",
        "3. Simpan Model Hasil Pembelajaran\n",
        "4. Proses Preditiction"
      ]
    },
    {
      "cell_type": "code",
      "execution_count": 20,
      "metadata": {
        "trusted": true
      },
      "outputs": [],
      "source": [
        "from sklearn.metrics import accuracy_score, precision_score, recall_score, f1_score, confusion_matrix\n",
        "\n",
        "def get_fit_model(model, x_train, y_train):\n",
        "    return model.fit(x_train, y_train)\n",
        "\n",
        "def get_y_pred(fit_model, x_test):\n",
        "    y_pred = fit_model.predict(x_test)\n",
        "    return y_pred\n",
        "\n",
        "def get_all_metrics_score(y_test, y_pred):\n",
        "    return [\n",
        "        accuracy_score(y_test, y_pred), \n",
        "        precision_score(y_test, y_pred, average = \"micro\"),\n",
        "        recall_score(y_test, y_pred, average = \"micro\"),\n",
        "        f1_score(y_test, y_pred, average = \"micro\")\n",
        "    ]\n",
        "\n",
        "def get_confusion_matrix(y_test, y_pred):\n",
        "    return confusion_matrix(y_test, y_pred)"
      ]
    },
    {
      "cell_type": "code",
      "execution_count": 21,
      "metadata": {
        "trusted": true
      },
      "outputs": [],
      "source": [
        "import pickle\n",
        "def saveModel(model, destPath):\n",
        "    # pkl extension\n",
        "    pickle.dump(model, open(destPath, 'wb'))\n",
        "    \n",
        "def loadModel(srcPath):\n",
        "    # pkl extension\n",
        "    return pickle.load(open(srcPath, 'rb'))"
      ]
    },
    {
      "cell_type": "markdown",
      "metadata": {},
      "source": [
        "A. DecisionTreeClassifier"
      ]
    },
    {
      "cell_type": "code",
      "execution_count": 22,
      "metadata": {
        "trusted": true
      },
      "outputs": [],
      "source": [
        "# DecisionTreeClassifier\n",
        "\n",
        "from sklearn import tree\n",
        "from sklearn.tree import export_text\n",
        "\n",
        "dt = tree.DecisionTreeClassifier(criterion = \"entropy\", max_features = \"sqrt\", random_state = 40)\n",
        "dt_fit = get_fit_model(dt, x_train_bc, y_train_bc)\n",
        "saveModel(dt_fit, \"./model/dt_fit.pkl\")"
      ]
    },
    {
      "cell_type": "code",
      "execution_count": 23,
      "metadata": {
        "trusted": true
      },
      "outputs": [
        {
          "name": "stdout",
          "output_type": "stream",
          "text": [
            "[0.9122807017543859, 0.9122807017543859, 0.9122807017543859, 0.9122807017543859]\n",
            "\n",
            "[[43  6]\n",
            " [ 4 61]]\n",
            "\n",
            "|--- feature_13 <= 30.83\n",
            "|   |--- feature_21 <= 25.83\n",
            "|   |   |--- feature_23 <= 989.45\n",
            "|   |   |   |--- feature_25 <= 0.50\n",
            "|   |   |   |   |--- class: 1\n",
            "|   |   |   |--- feature_25 >  0.50\n",
            "|   |   |   |   |--- feature_20 <= 15.45\n",
            "|   |   |   |   |   |--- class: 1\n",
            "|   |   |   |   |--- feature_20 >  15.45\n",
            "|   |   |   |   |   |--- class: 0\n",
            "|   |   |--- feature_23 >  989.45\n",
            "|   |   |   |--- class: 0\n",
            "|   |--- feature_21 >  25.83\n",
            "|   |   |--- feature_25 <= 0.35\n",
            "|   |   |   |--- feature_7 <= 0.05\n",
            "|   |   |   |   |--- feature_14 <= 0.00\n",
            "|   |   |   |   |   |--- class: 0\n",
            "|   |   |   |   |--- feature_14 >  0.00\n",
            "|   |   |   |   |   |--- feature_22 <= 113.95\n",
            "|   |   |   |   |   |   |--- feature_21 <= 33.27\n",
            "|   |   |   |   |   |   |   |--- class: 1\n",
            "|   |   |   |   |   |   |--- feature_21 >  33.27\n",
            "|   |   |   |   |   |   |   |--- feature_23 <= 643.25\n",
            "|   |   |   |   |   |   |   |   |--- class: 1\n",
            "|   |   |   |   |   |   |   |--- feature_23 >  643.25\n",
            "|   |   |   |   |   |   |   |   |--- feature_20 <= 14.59\n",
            "|   |   |   |   |   |   |   |   |   |--- class: 0\n",
            "|   |   |   |   |   |   |   |   |--- feature_20 >  14.59\n",
            "|   |   |   |   |   |   |   |   |   |--- class: 1\n",
            "|   |   |   |   |   |--- feature_22 >  113.95\n",
            "|   |   |   |   |   |   |--- class: 0\n",
            "|   |   |   |--- feature_7 >  0.05\n",
            "|   |   |   |   |--- class: 0\n",
            "|   |   |--- feature_25 >  0.35\n",
            "|   |   |   |--- feature_25 <= 0.45\n",
            "|   |   |   |   |--- feature_16 <= 0.06\n",
            "|   |   |   |   |   |--- feature_25 <= 0.44\n",
            "|   |   |   |   |   |   |--- feature_19 <= 0.01\n",
            "|   |   |   |   |   |   |   |--- class: 0\n",
            "|   |   |   |   |   |   |--- feature_19 >  0.01\n",
            "|   |   |   |   |   |   |   |--- class: 1\n",
            "|   |   |   |   |   |--- feature_25 >  0.44\n",
            "|   |   |   |   |   |   |--- class: 1\n",
            "|   |   |   |   |--- feature_16 >  0.06\n",
            "|   |   |   |   |   |--- class: 1\n",
            "|   |   |   |--- feature_25 >  0.45\n",
            "|   |   |   |   |--- class: 0\n",
            "|--- feature_13 >  30.83\n",
            "|   |--- feature_7 <= 0.05\n",
            "|   |   |--- feature_8 <= 0.16\n",
            "|   |   |   |--- feature_12 <= 3.70\n",
            "|   |   |   |   |--- feature_27 <= 0.10\n",
            "|   |   |   |   |   |--- class: 1\n",
            "|   |   |   |   |--- feature_27 >  0.10\n",
            "|   |   |   |   |   |--- feature_7 <= 0.03\n",
            "|   |   |   |   |   |   |--- class: 1\n",
            "|   |   |   |   |   |--- feature_7 >  0.03\n",
            "|   |   |   |   |   |   |--- class: 0\n",
            "|   |   |   |--- feature_12 >  3.70\n",
            "|   |   |   |   |--- class: 0\n",
            "|   |   |--- feature_8 >  0.16\n",
            "|   |   |   |--- feature_18 <= 0.02\n",
            "|   |   |   |   |--- feature_7 <= 0.04\n",
            "|   |   |   |   |   |--- class: 1\n",
            "|   |   |   |   |--- feature_7 >  0.04\n",
            "|   |   |   |   |   |--- class: 0\n",
            "|   |   |   |--- feature_18 >  0.02\n",
            "|   |   |   |   |--- class: 1\n",
            "|   |--- feature_7 >  0.05\n",
            "|   |   |--- feature_22 <= 105.95\n",
            "|   |   |   |--- class: 1\n",
            "|   |   |--- feature_22 >  105.95\n",
            "|   |   |   |--- feature_18 <= 0.02\n",
            "|   |   |   |   |--- class: 0\n",
            "|   |   |   |--- feature_18 >  0.02\n",
            "|   |   |   |   |--- feature_21 <= 18.40\n",
            "|   |   |   |   |   |--- feature_19 <= 0.00\n",
            "|   |   |   |   |   |   |--- class: 0\n",
            "|   |   |   |   |   |--- feature_19 >  0.00\n",
            "|   |   |   |   |   |   |--- class: 1\n",
            "|   |   |   |   |--- feature_21 >  18.40\n",
            "|   |   |   |   |   |--- class: 0\n",
            "\n"
          ]
        }
      ],
      "source": [
        "dt_fit = loadModel(\"./model/dt_fit.pkl\")\n",
        "y_pred = get_y_pred(dt_fit, x_test_bc)\n",
        "y_pred = dt_fit.predict(x_test_bc)\n",
        "\n",
        "\n",
        "dt_bc_scores = get_all_metrics_score(y_test_bc, y_pred)\n",
        "dt_bc_confusion_mat = get_confusion_matrix(y_test_bc, y_pred)\n",
        "\n",
        "print(f\"{dt_bc_scores}\\n\")\n",
        "print(f\"{dt_bc_confusion_mat}\\n\")\n",
        "print(export_text(dt))"
      ]
    },
    {
      "cell_type": "markdown",
      "metadata": {},
      "source": [
        "B. Id3Estimator"
      ]
    },
    {
      "cell_type": "code",
      "execution_count": 24,
      "metadata": {
        "trusted": true
      },
      "outputs": [],
      "source": [
        "# Id3Estimator\n",
        "import six\n",
        "import sys\n",
        "sys.modules['sklearn.externals.six'] = six\n",
        "import mlrose\n",
        "from id3 import Id3Estimator\n",
        "\n",
        "id3_estimator = Id3Estimator(prune = True, gain_ratio = True)\n",
        "id3_estimator_fit = get_fit_model(id3_estimator, x_train_bc, y_train_bc)\n",
        "saveModel(id3_estimator_fit, \"./model/id3_estimator_fit.pkl\")"
      ]
    },
    {
      "cell_type": "code",
      "execution_count": 25,
      "metadata": {
        "trusted": true
      },
      "outputs": [
        {
          "name": "stdout",
          "output_type": "stream",
          "text": [
            "[0.9298245614035088, 0.9298245614035088, 0.9298245614035088, 0.9298245614035088]\n",
            "\n",
            "[[44  5]\n",
            " [ 3 62]]\n",
            "\n"
          ]
        }
      ],
      "source": [
        "id3_estimator_fit = loadModel(\"./model/id3_estimator_fit.pkl\")\n",
        "y_pred = get_y_pred(id3_estimator_fit, x_test_bc)\n",
        "\n",
        "id3_bc_scores = get_all_metrics_score(y_test_bc, y_pred)\n",
        "id3_bc_confusion_mat = get_confusion_matrix(y_test_bc, y_pred)\n",
        "\n",
        "print(f\"{id3_bc_scores}\\n\")\n",
        "print(f\"{id3_bc_confusion_mat}\\n\")"
      ]
    },
    {
      "cell_type": "markdown",
      "metadata": {},
      "source": [
        "C. K Means"
      ]
    },
    {
      "cell_type": "code",
      "execution_count": 26,
      "metadata": {
        "trusted": true
      },
      "outputs": [],
      "source": [
        "# K Means\n",
        "from sklearn.cluster import KMeans\n",
        "\n",
        "k_means = KMeans(n_init = \"auto\", n_clusters = 2, max_iter = 5000, random_state = 15)\n",
        "k_means_fit = get_fit_model(k_means, x_train_bc, y_train_bc)\n",
        "saveModel(k_means_fit, \"./model/k_means_fit.pkl\")"
      ]
    },
    {
      "cell_type": "code",
      "execution_count": 27,
      "metadata": {
        "trusted": true
      },
      "outputs": [
        {
          "name": "stdout",
          "output_type": "stream",
          "text": [
            "[0.8421052631578947, 0.8421052631578947, 0.8421052631578947, 0.8421052631578947]\n",
            "\n",
            "[[31 18]\n",
            " [ 0 65]]\n",
            "\n"
          ]
        }
      ],
      "source": [
        "k_means_fit = loadModel(\"./model/k_means_fit.pkl\")\n",
        "y_pred = get_y_pred(k_means_fit, x_test_bc)\n",
        "\n",
        "k_means_bc_scores = get_all_metrics_score(y_test_bc, y_pred)\n",
        "k_means_bc_confusion_mat = get_confusion_matrix(y_test_bc, y_pred)\n",
        "\n",
        "print(f\"{k_means_bc_scores}\\n\")\n",
        "print(f\"{k_means_bc_confusion_mat}\\n\")"
      ]
    },
    {
      "cell_type": "markdown",
      "metadata": {},
      "source": [
        "D. LogisticRegression"
      ]
    },
    {
      "cell_type": "code",
      "execution_count": 28,
      "metadata": {
        "trusted": true
      },
      "outputs": [],
      "source": [
        "# LogisticRegression\n",
        "from sklearn.linear_model import LogisticRegression\n",
        "\n",
        "log_reg = LogisticRegression(max_iter = 5000)\n",
        "log_reg_fit = get_fit_model(log_reg, x_train_bc, y_train_bc)\n",
        "saveModel(log_reg_fit, \"./model/log_reg_fit.pkl\")"
      ]
    },
    {
      "cell_type": "code",
      "execution_count": 29,
      "metadata": {
        "trusted": true
      },
      "outputs": [
        {
          "name": "stdout",
          "output_type": "stream",
          "text": [
            "[0.9736842105263158, 0.9736842105263158, 0.9736842105263158, 0.9736842105263158]\n",
            "\n",
            "[[47  2]\n",
            " [ 1 64]]\n",
            "\n"
          ]
        }
      ],
      "source": [
        "log_reg_fit = loadModel(\"./model/log_reg_fit.pkl\")\n",
        "y_pred = get_y_pred(log_reg_fit, x_test_bc)\n",
        "\n",
        "log_reg_bc_scores = get_all_metrics_score(y_test_bc, y_pred)\n",
        "log_reg_bc_confusion_mat = get_confusion_matrix(y_test_bc, y_pred)\n",
        "\n",
        "print(f\"{log_reg_bc_scores}\\n\")\n",
        "print(f\"{log_reg_bc_confusion_mat}\\n\")"
      ]
    },
    {
      "cell_type": "markdown",
      "metadata": {},
      "source": [
        "E. Neural_network"
      ]
    },
    {
      "cell_type": "code",
      "execution_count": 30,
      "metadata": {
        "trusted": true
      },
      "outputs": [],
      "source": [
        "# Neural_network\n",
        "\n",
        "from sklearn.neural_network import MLPClassifier\n",
        "\n",
        "mlp = MLPClassifier(max_iter = 5000, solver = \"lbfgs\")\n",
        "mlp_fit = get_fit_model(mlp, x_train_bc, y_train_bc)\n",
        "saveModel(mlp_fit, \"./model/mlp_fit.pkl\")"
      ]
    },
    {
      "cell_type": "code",
      "execution_count": 31,
      "metadata": {
        "trusted": true
      },
      "outputs": [
        {
          "name": "stdout",
          "output_type": "stream",
          "text": [
            "[0.9473684210526315, 0.9473684210526315, 0.9473684210526315, 0.9473684210526315]\n",
            "\n",
            "[[45  4]\n",
            " [ 2 63]]\n",
            "\n"
          ]
        }
      ],
      "source": [
        "mlp_fit = loadModel(\"./model/mlp_fit.pkl\")\n",
        "y_pred = get_y_pred(mlp_fit, x_test_bc)\n",
        "\n",
        "mlp_bc_scores = get_all_metrics_score(y_test_bc, y_pred)\n",
        "mlp_bc_confusion_mat = get_confusion_matrix(y_test_bc, y_pred)\n",
        "\n",
        "print(f\"{mlp_bc_scores}\\n\")\n",
        "print(f\"{mlp_bc_confusion_mat}\\n\")"
      ]
    },
    {
      "cell_type": "markdown",
      "metadata": {},
      "source": [
        "F. SVM"
      ]
    },
    {
      "cell_type": "code",
      "execution_count": 32,
      "metadata": {
        "trusted": true
      },
      "outputs": [],
      "source": [
        "# SVM\n",
        "\n",
        "from sklearn.svm import SVC\n",
        "\n",
        "svc = SVC(kernel = 'linear')\n",
        "svc_fit = get_fit_model(svc, x_train_bc, y_train_bc)\n",
        "saveModel(svc_fit, \"./model/svc_fit.pkl\")"
      ]
    },
    {
      "cell_type": "code",
      "execution_count": 33,
      "metadata": {
        "trusted": true
      },
      "outputs": [
        {
          "name": "stdout",
          "output_type": "stream",
          "text": [
            "[0.9649122807017544, 0.9649122807017544, 0.9649122807017544, 0.9649122807017544]\n",
            "\n",
            "[[46  3]\n",
            " [ 1 64]]\n",
            "\n"
          ]
        }
      ],
      "source": [
        "svc_fit = loadModel(\"./model/svc_fit.pkl\")\n",
        "y_pred = get_y_pred(svc_fit, x_test_bc)\n",
        "\n",
        "svc_bc_scores = get_all_metrics_score(y_test_bc, y_pred)\n",
        "svc_bc_confusion_mat = get_confusion_matrix(y_test_bc, y_pred)\n",
        "\n",
        "print(f\"{svc_bc_scores}\\n\")\n",
        "print(f\"{svc_bc_confusion_mat}\\n\")"
      ]
    },
    {
      "cell_type": "code",
      "execution_count": 34,
      "metadata": {
        "trusted": true
      },
      "outputs": [],
      "source": [
        "index = [\n",
        "    \"DecisionTree\",\n",
        "    \"K Means\",\n",
        "    \"LogisticRegression\",\n",
        "    \"Neural_network\",\n",
        "    \"SVM\"\n",
        "]\n",
        "columns = [\n",
        "    \"Accuracy\", \n",
        "    \"Precision\", \n",
        "    \"Recall\", \n",
        "    \"F1\"\n",
        "]\n",
        "\n",
        "bc_algos_scores = [\n",
        "    dt_bc_scores,\n",
        "    k_means_bc_scores,\n",
        "    log_reg_bc_scores,\n",
        "    mlp_bc_scores,\n",
        "    svc_bc_scores\n",
        "]\n",
        "\n",
        "bc_algos_metrics_score = pd.DataFrame(\n",
        "    data = bc_algos_scores, \n",
        "    index = index, \n",
        "    columns = [[\"Breast Cancer\" for i in range(len(columns))], columns])"
      ]
    },
    {
      "cell_type": "code",
      "execution_count": 35,
      "metadata": {
        "trusted": true
      },
      "outputs": [
        {
          "data": {
            "text/html": [
              "<div>\n",
              "<style scoped>\n",
              "    .dataframe tbody tr th:only-of-type {\n",
              "        vertical-align: middle;\n",
              "    }\n",
              "\n",
              "    .dataframe tbody tr th {\n",
              "        vertical-align: top;\n",
              "    }\n",
              "\n",
              "    .dataframe thead tr th {\n",
              "        text-align: left;\n",
              "    }\n",
              "</style>\n",
              "<table border=\"1\" class=\"dataframe\">\n",
              "  <thead>\n",
              "    <tr>\n",
              "      <th></th>\n",
              "      <th colspan=\"4\" halign=\"left\">Breast Cancer</th>\n",
              "    </tr>\n",
              "    <tr>\n",
              "      <th></th>\n",
              "      <th>Accuracy</th>\n",
              "      <th>Precision</th>\n",
              "      <th>Recall</th>\n",
              "      <th>F1</th>\n",
              "    </tr>\n",
              "  </thead>\n",
              "  <tbody>\n",
              "    <tr>\n",
              "      <th>DecisionTree</th>\n",
              "      <td>0.912281</td>\n",
              "      <td>0.912281</td>\n",
              "      <td>0.912281</td>\n",
              "      <td>0.912281</td>\n",
              "    </tr>\n",
              "    <tr>\n",
              "      <th>K Means</th>\n",
              "      <td>0.842105</td>\n",
              "      <td>0.842105</td>\n",
              "      <td>0.842105</td>\n",
              "      <td>0.842105</td>\n",
              "    </tr>\n",
              "    <tr>\n",
              "      <th>LogisticRegression</th>\n",
              "      <td>0.973684</td>\n",
              "      <td>0.973684</td>\n",
              "      <td>0.973684</td>\n",
              "      <td>0.973684</td>\n",
              "    </tr>\n",
              "    <tr>\n",
              "      <th>Neural_network</th>\n",
              "      <td>0.947368</td>\n",
              "      <td>0.947368</td>\n",
              "      <td>0.947368</td>\n",
              "      <td>0.947368</td>\n",
              "    </tr>\n",
              "    <tr>\n",
              "      <th>SVM</th>\n",
              "      <td>0.964912</td>\n",
              "      <td>0.964912</td>\n",
              "      <td>0.964912</td>\n",
              "      <td>0.964912</td>\n",
              "    </tr>\n",
              "  </tbody>\n",
              "</table>\n",
              "</div>"
            ],
            "text/plain": [
              "                   Breast Cancer                              \n",
              "                        Accuracy Precision    Recall        F1\n",
              "DecisionTree            0.912281  0.912281  0.912281  0.912281\n",
              "K Means                 0.842105  0.842105  0.842105  0.842105\n",
              "LogisticRegression      0.973684  0.973684  0.973684  0.973684\n",
              "Neural_network          0.947368  0.947368  0.947368  0.947368\n",
              "SVM                     0.964912  0.964912  0.964912  0.964912"
            ]
          },
          "execution_count": 35,
          "metadata": {},
          "output_type": "execute_result"
        }
      ],
      "source": [
        "bc_algos_metrics_score"
      ]
    },
    {
      "cell_type": "code",
      "execution_count": 36,
      "metadata": {
        "trusted": true
      },
      "outputs": [
        {
          "name": "stdout",
          "output_type": "stream",
          "text": [
            ">>> TRAINING DATA <<<\n",
            "\n",
            "> SAMPLE\n",
            "\n",
            "     mean radius  mean texture  mean perimeter  mean area  mean smoothness  \\\n",
            "49         13.49         22.30           86.91      561.0          0.08752   \n",
            "564        21.56         22.39          142.00     1479.0          0.11100   \n",
            "112        14.26         19.65           97.83      629.9          0.07837   \n",
            "50         11.76         21.60           74.72      427.9          0.08637   \n",
            "301        12.46         19.89           80.43      471.3          0.08451   \n",
            "..           ...           ...             ...        ...              ...   \n",
            "448        14.53         19.34           94.25      659.7          0.08388   \n",
            "395        14.06         17.18           89.75      609.1          0.08045   \n",
            "222        10.18         17.53           65.12      313.1          0.10610   \n",
            "545        13.62         23.23           87.19      573.2          0.09246   \n",
            "252        19.73         19.82          130.70     1206.0          0.10620   \n",
            "\n",
            "     mean compactness  mean concavity  mean concave points  mean symmetry  \\\n",
            "49            0.07698         0.04751              0.03384         0.1809   \n",
            "564           0.11590         0.24390              0.13890         0.1726   \n",
            "112           0.22330         0.30030              0.07798         0.1704   \n",
            "50            0.04966         0.01657              0.01115         0.1495   \n",
            "301           0.10140         0.06830              0.03099         0.1781   \n",
            "..                ...             ...                  ...            ...   \n",
            "448           0.07800         0.08817              0.02925         0.1473   \n",
            "395           0.05361         0.02681              0.03251         0.1641   \n",
            "222           0.08502         0.01768              0.01915         0.1910   \n",
            "545           0.06747         0.02974              0.02443         0.1664   \n",
            "252           0.18490         0.24170              0.09740         0.1733   \n",
            "\n",
            "     mean fractal dimension  ...  worst radius  worst texture  \\\n",
            "49                  0.05718  ...         15.15          31.82   \n",
            "564                 0.05623  ...         25.45          26.40   \n",
            "112                 0.07769  ...         15.30          23.73   \n",
            "50                  0.05888  ...         12.98          25.72   \n",
            "301                 0.06249  ...         13.46          23.07   \n",
            "..                      ...  ...           ...            ...   \n",
            "448                 0.05746  ...         16.30          28.39   \n",
            "395                 0.05764  ...         14.92          25.34   \n",
            "222                 0.06908  ...         11.17          22.84   \n",
            "545                 0.05801  ...         15.35          29.09   \n",
            "252                 0.06697  ...         25.28          25.59   \n",
            "\n",
            "     worst perimeter  worst area  worst smoothness  worst compactness  \\\n",
            "49             99.00       698.8           0.11620            0.17110   \n",
            "564           166.10      2027.0           0.14100            0.21130   \n",
            "112           107.00       709.0           0.08949            0.41930   \n",
            "50             82.98       516.5           0.10850            0.08615   \n",
            "301            88.13       551.3           0.10500            0.21580   \n",
            "..               ...         ...               ...                ...   \n",
            "448           108.10       830.5           0.10890            0.26490   \n",
            "395            96.42       684.5           0.10660            0.12310   \n",
            "222            71.94       375.6           0.14060            0.14400   \n",
            "545            97.58       729.8           0.12160            0.15170   \n",
            "252           159.80      1933.0           0.17100            0.59550   \n",
            "\n",
            "     worst concavity  worst concave points  worst symmetry  \\\n",
            "49           0.22820               0.12820          0.2871   \n",
            "564          0.41070               0.22160          0.2060   \n",
            "112          0.67830               0.15050          0.2398   \n",
            "50           0.05523               0.03715          0.2433   \n",
            "301          0.19040               0.07625          0.2685   \n",
            "..               ...                   ...             ...   \n",
            "448          0.37790               0.09594          0.2471   \n",
            "395          0.08460               0.07911          0.2523   \n",
            "222          0.06572               0.05575          0.3055   \n",
            "545          0.10490               0.07174          0.2642   \n",
            "252          0.84890               0.25070          0.2749   \n",
            "\n",
            "     worst fractal dimension  \n",
            "49                   0.06917  \n",
            "564                  0.07115  \n",
            "112                  0.10820  \n",
            "50                   0.06563  \n",
            "301                  0.07764  \n",
            "..                       ...  \n",
            "448                  0.07463  \n",
            "395                  0.06609  \n",
            "222                  0.08797  \n",
            "545                  0.06953  \n",
            "252                  0.12970  \n",
            "\n",
            "[455 rows x 30 columns]\n",
            "\n",
            "> TARGET\n",
            "\n",
            "49     1\n",
            "564    0\n",
            "112    1\n",
            "50     1\n",
            "301    1\n",
            "      ..\n",
            "448    1\n",
            "395    1\n",
            "222    1\n",
            "545    1\n",
            "252    0\n",
            "Name: target, Length: 455, dtype: int32\n"
          ]
        }
      ],
      "source": [
        "print(f\">>> TRAINING DATA <<<\")\n",
        "\n",
        "print(f\"\\n> SAMPLE\\n\")\n",
        "print(x_train_bc)\n",
        "\n",
        "print(f\"\\n> TARGET\\n\")\n",
        "print(y_train_bc)"
      ]
    },
    {
      "cell_type": "code",
      "execution_count": 37,
      "metadata": {
        "trusted": true
      },
      "outputs": [
        {
          "name": "stdout",
          "output_type": "stream",
          "text": [
            ">>> TESTING DATA <<<\n",
            "\n",
            "> SAMPLE\n",
            "\n",
            "     mean radius  mean texture  mean perimeter  mean area  mean smoothness  \\\n",
            "408        17.99         20.66          117.80      991.7          0.10360   \n",
            "350        11.66         17.07           73.70      421.0          0.07561   \n",
            "499        20.59         21.24          137.80     1320.0          0.10850   \n",
            "73         13.80         15.79           90.43      584.1          0.10070   \n",
            "414        15.13         29.81           96.71      719.5          0.08320   \n",
            "..           ...           ...             ...        ...              ...   \n",
            "417        15.50         21.08          102.90      803.1          0.11200   \n",
            "333        11.25         14.78           71.38      390.0          0.08306   \n",
            "213        17.42         25.56          114.50      948.0          0.10060   \n",
            "14         13.73         22.61           93.60      578.3          0.11310   \n",
            "65         14.78         23.94           97.40      668.3          0.11720   \n",
            "\n",
            "     mean compactness  mean concavity  mean concave points  mean symmetry  \\\n",
            "408           0.13040        0.120100             0.088240         0.1992   \n",
            "350           0.03630        0.008306             0.011620         0.1671   \n",
            "499           0.16440        0.218800             0.112100         0.1848   \n",
            "73            0.12800        0.077890             0.050690         0.1662   \n",
            "414           0.04605        0.046860             0.027390         0.1852   \n",
            "..                ...             ...                  ...            ...   \n",
            "417           0.15710        0.152200             0.084810         0.2085   \n",
            "333           0.04458        0.000974             0.002941         0.1773   \n",
            "213           0.11460        0.168200             0.065970         0.1308   \n",
            "14            0.22930        0.212800             0.080250         0.2069   \n",
            "65            0.14790        0.126700             0.090290         0.1953   \n",
            "\n",
            "     mean fractal dimension  ...  worst radius  worst texture  \\\n",
            "408                 0.06069  ...         21.08          25.41   \n",
            "350                 0.05731  ...         13.28          19.74   \n",
            "499                 0.06222  ...         23.86          30.76   \n",
            "73                  0.06566  ...         16.57          20.86   \n",
            "414                 0.05294  ...         17.26          36.91   \n",
            "..                      ...  ...           ...            ...   \n",
            "417                 0.06864  ...         23.17          27.65   \n",
            "333                 0.06081  ...         12.76          22.06   \n",
            "213                 0.05866  ...         18.07          28.07   \n",
            "14                  0.07682  ...         15.03          32.01   \n",
            "65                  0.06654  ...         17.31          33.39   \n",
            "\n",
            "     worst perimeter  worst area  worst smoothness  worst compactness  \\\n",
            "408           138.10      1349.0           0.14820            0.37350   \n",
            "350            83.61       542.5           0.09958            0.06476   \n",
            "499           163.20      1760.0           0.14640            0.35970   \n",
            "73            110.30       812.4           0.14110            0.35420   \n",
            "414           110.10       931.4           0.11480            0.09866   \n",
            "..               ...         ...               ...                ...   \n",
            "417           157.10      1748.0           0.15170            0.40020   \n",
            "333            82.08       492.7           0.11660            0.09794   \n",
            "213           120.40      1021.0           0.12430            0.17930   \n",
            "14            108.80       697.7           0.16510            0.77250   \n",
            "65            114.60       925.1           0.16480            0.34160   \n",
            "\n",
            "     worst concavity  worst concave points  worst symmetry  \\\n",
            "408         0.330100               0.19740          0.3060   \n",
            "350         0.030460               0.04262          0.2731   \n",
            "499         0.517900               0.21130          0.2480   \n",
            "73          0.277900               0.13830          0.2589   \n",
            "414         0.154700               0.06575          0.3233   \n",
            "..               ...                   ...             ...   \n",
            "417         0.421100               0.21340          0.3003   \n",
            "333         0.005518               0.01667          0.2815   \n",
            "213         0.280300               0.10990          0.1603   \n",
            "14          0.694300               0.22080          0.3596   \n",
            "65          0.302400               0.16140          0.3321   \n",
            "\n",
            "     worst fractal dimension  \n",
            "408                  0.08503  \n",
            "350                  0.06825  \n",
            "499                  0.08999  \n",
            "73                   0.10300  \n",
            "414                  0.06165  \n",
            "..                       ...  \n",
            "417                  0.10480  \n",
            "333                  0.07418  \n",
            "213                  0.06818  \n",
            "14                   0.14310  \n",
            "65                   0.08911  \n",
            "\n",
            "[114 rows x 30 columns]\n",
            "\n",
            "> TARGET\n",
            "\n",
            "408    0\n",
            "350    1\n",
            "499    0\n",
            "73     0\n",
            "414    0\n",
            "      ..\n",
            "417    0\n",
            "333    1\n",
            "213    0\n",
            "14     0\n",
            "65     0\n",
            "Name: target, Length: 114, dtype: int32\n"
          ]
        }
      ],
      "source": [
        "print(f\">>> TESTING DATA <<<\")\n",
        "\n",
        "print(f\"\\n> SAMPLE\\n\")\n",
        "print(x_test_bc)\n",
        "\n",
        "print(f\"\\n> TARGET\\n\")\n",
        "print(y_test_bc)"
      ]
    },
    {
      "cell_type": "code",
      "execution_count": null,
      "metadata": {},
      "outputs": [],
      "source": []
    }
  ],
  "metadata": {
    "kernelspec": {
      "display_name": "Python 3",
      "language": "python",
      "name": "python3"
    },
    "language_info": {
      "codemirror_mode": {
        "name": "ipython",
        "version": 3
      },
      "file_extension": ".py",
      "mimetype": "text/x-python",
      "name": "python",
      "nbconvert_exporter": "python",
      "pygments_lexer": "ipython3",
      "version": "3.11.1"
    },
    "vscode": {
      "interpreter": {
        "hash": "f1442b5742f48a99f1d0399df926ab14533a2100e2290e97ace0f3bcc6b13c43"
      }
    }
  },
  "nbformat": 4,
  "nbformat_minor": 4
}
