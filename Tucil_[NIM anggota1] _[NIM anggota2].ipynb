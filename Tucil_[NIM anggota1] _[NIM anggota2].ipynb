{
  "cells": [
    {
      "attachments": {},
      "cell_type": "markdown",
      "metadata": {},
      "source": [
        "#### Tugas Kecil 1\n",
        "#### Eksplorasi Library Algoritme Pembelajaran pada Jupyter Notebook\n",
        "\n",
        "#### Anggota Kelompok:\n",
        "1. 13519210 Dwi Kalam Amal Tauhid\n",
        "2. 13520125 Ikmal Alfaozi"
      ]
    },
    {
      "attachments": {},
      "cell_type": "markdown",
      "metadata": {},
      "source": [
        "### 1. Membaca dataset (load dataset)"
      ]
    },
    {
      "cell_type": "code",
      "execution_count": 61,
      "metadata": {
        "trusted": true
      },
      "outputs": [],
      "source": [
        "from sklearn import datasets\n",
        "import pandas as pd\n",
        "\n",
        "bc = datasets.load_breast_cancer()\n",
        "df_bc = pd.DataFrame(bc.data, columns = bc.feature_names)\n",
        "df_bc[\"target\"] = bc.target\n",
        "\n",
        "x_bc = df_bc.iloc[:, :-1]\n",
        "y_bc = df_bc[\"target\"]"
      ]
    },
    {
      "cell_type": "code",
      "execution_count": 62,
      "metadata": {},
      "outputs": [
        {
          "name": "stdout",
          "output_type": "stream",
          "text": [
            "<class 'pandas.core.frame.DataFrame'>\n",
            "RangeIndex: 569 entries, 0 to 568\n",
            "Data columns (total 31 columns):\n",
            " #   Column                   Non-Null Count  Dtype  \n",
            "---  ------                   --------------  -----  \n",
            " 0   mean radius              569 non-null    float64\n",
            " 1   mean texture             569 non-null    float64\n",
            " 2   mean perimeter           569 non-null    float64\n",
            " 3   mean area                569 non-null    float64\n",
            " 4   mean smoothness          569 non-null    float64\n",
            " 5   mean compactness         569 non-null    float64\n",
            " 6   mean concavity           569 non-null    float64\n",
            " 7   mean concave points      569 non-null    float64\n",
            " 8   mean symmetry            569 non-null    float64\n",
            " 9   mean fractal dimension   569 non-null    float64\n",
            " 10  radius error             569 non-null    float64\n",
            " 11  texture error            569 non-null    float64\n",
            " 12  perimeter error          569 non-null    float64\n",
            " 13  area error               569 non-null    float64\n",
            " 14  smoothness error         569 non-null    float64\n",
            " 15  compactness error        569 non-null    float64\n",
            " 16  concavity error          569 non-null    float64\n",
            " 17  concave points error     569 non-null    float64\n",
            " 18  symmetry error           569 non-null    float64\n",
            " 19  fractal dimension error  569 non-null    float64\n",
            " 20  worst radius             569 non-null    float64\n",
            " 21  worst texture            569 non-null    float64\n",
            " 22  worst perimeter          569 non-null    float64\n",
            " 23  worst area               569 non-null    float64\n",
            " 24  worst smoothness         569 non-null    float64\n",
            " 25  worst compactness        569 non-null    float64\n",
            " 26  worst concavity          569 non-null    float64\n",
            " 27  worst concave points     569 non-null    float64\n",
            " 28  worst symmetry           569 non-null    float64\n",
            " 29  worst fractal dimension  569 non-null    float64\n",
            " 30  target                   569 non-null    int64  \n",
            "dtypes: float64(30), int64(1)\n",
            "memory usage: 137.9 KB\n"
          ]
        }
      ],
      "source": [
        "df_bc.info()"
      ]
    },
    {
      "cell_type": "code",
      "execution_count": 63,
      "metadata": {
        "trusted": true
      },
      "outputs": [],
      "source": [
        "from sklearn.model_selection import train_test_split\n",
        "\n",
        "x_train_bc, x_test_bc, y_train_bc, y_test_bc = train_test_split(\n",
        "    x_bc, \n",
        "    y_bc, \n",
        "    test_size = 0.2, \n",
        "    random_state = 568\n",
        ")"
      ]
    },
    {
      "attachments": {},
      "cell_type": "markdown",
      "metadata": {},
      "source": [
        "### 2. Melakukan Pembelajaran\n",
        "### 3. Simpan Model Hasil Pembelajaran\n",
        "### 4. Proses Prediksi"
      ]
    },
    {
      "cell_type": "code",
      "execution_count": 64,
      "metadata": {
        "trusted": true
      },
      "outputs": [],
      "source": [
        "from sklearn.metrics import accuracy_score, precision_score, recall_score, f1_score, confusion_matrix\n",
        "\n",
        "def get_fit_model(model, x_train, y_train):\n",
        "    return model.fit(x_train, y_train)\n",
        "\n",
        "def get_y_pred(fit_model, x_test):\n",
        "    y_pred = fit_model.predict(x_test)\n",
        "    return y_pred\n",
        "\n",
        "def get_all_metrics_score(y_test, y_pred):\n",
        "    return [\n",
        "        accuracy_score(y_test, y_pred), \n",
        "        precision_score(y_test, y_pred),\n",
        "        recall_score(y_test, y_pred),\n",
        "        f1_score(y_test, y_pred)\n",
        "    ]\n",
        "\n",
        "def get_confusion_matrix(y_test, y_pred):\n",
        "    return confusion_matrix(y_test, y_pred)"
      ]
    },
    {
      "cell_type": "code",
      "execution_count": 65,
      "metadata": {
        "trusted": true
      },
      "outputs": [],
      "source": [
        "import pickle\n",
        "\n",
        "def save_model(model, dest_path):\n",
        "    # pkl extension\n",
        "    pickle.dump(model, open(dest_path, 'wb'))\n",
        "    \n",
        "def load_model(src_path):\n",
        "    # pkl extension\n",
        "    return pickle.load(open(src_path, 'rb'))"
      ]
    },
    {
      "attachments": {},
      "cell_type": "markdown",
      "metadata": {},
      "source": [
        "#### A. DecisionTreeClassifier"
      ]
    },
    {
      "cell_type": "code",
      "execution_count": 66,
      "metadata": {
        "trusted": true
      },
      "outputs": [],
      "source": [
        "from sklearn.model_selection import cross_val_score\n",
        "from sklearn import tree\n",
        "from sklearn.tree import export_text\n",
        "\n",
        "dt = tree.DecisionTreeClassifier(criterion = \"entropy\", max_features = \"sqrt\", random_state = 40)\n",
        "dt_fit = get_fit_model(dt, x_train_bc, y_train_bc)\n",
        "save_model(dt_fit, \"./model/dt_fit.pkl\")"
      ]
    },
    {
      "cell_type": "code",
      "execution_count": 67,
      "metadata": {
        "trusted": true
      },
      "outputs": [
        {
          "name": "stdout",
          "output_type": "stream",
          "text": [
            "[0.9122807017543859, 0.9104477611940298, 0.9384615384615385, 0.9242424242424243]\n",
            "\n",
            "[[43  6]\n",
            " [ 4 61]]\n",
            "\n",
            "|--- feature_13 <= 30.83\n",
            "|   |--- feature_21 <= 25.83\n",
            "|   |   |--- feature_23 <= 989.45\n",
            "|   |   |   |--- feature_25 <= 0.50\n",
            "|   |   |   |   |--- class: 1\n",
            "|   |   |   |--- feature_25 >  0.50\n",
            "|   |   |   |   |--- feature_20 <= 15.45\n",
            "|   |   |   |   |   |--- class: 1\n",
            "|   |   |   |   |--- feature_20 >  15.45\n",
            "|   |   |   |   |   |--- class: 0\n",
            "|   |   |--- feature_23 >  989.45\n",
            "|   |   |   |--- class: 0\n",
            "|   |--- feature_21 >  25.83\n",
            "|   |   |--- feature_25 <= 0.35\n",
            "|   |   |   |--- feature_7 <= 0.05\n",
            "|   |   |   |   |--- feature_14 <= 0.00\n",
            "|   |   |   |   |   |--- class: 0\n",
            "|   |   |   |   |--- feature_14 >  0.00\n",
            "|   |   |   |   |   |--- feature_22 <= 113.95\n",
            "|   |   |   |   |   |   |--- feature_21 <= 33.27\n",
            "|   |   |   |   |   |   |   |--- class: 1\n",
            "|   |   |   |   |   |   |--- feature_21 >  33.27\n",
            "|   |   |   |   |   |   |   |--- feature_23 <= 643.25\n",
            "|   |   |   |   |   |   |   |   |--- class: 1\n",
            "|   |   |   |   |   |   |   |--- feature_23 >  643.25\n",
            "|   |   |   |   |   |   |   |   |--- feature_20 <= 14.59\n",
            "|   |   |   |   |   |   |   |   |   |--- class: 0\n",
            "|   |   |   |   |   |   |   |   |--- feature_20 >  14.59\n",
            "|   |   |   |   |   |   |   |   |   |--- class: 1\n",
            "|   |   |   |   |   |--- feature_22 >  113.95\n",
            "|   |   |   |   |   |   |--- class: 0\n",
            "|   |   |   |--- feature_7 >  0.05\n",
            "|   |   |   |   |--- class: 0\n",
            "|   |   |--- feature_25 >  0.35\n",
            "|   |   |   |--- feature_25 <= 0.45\n",
            "|   |   |   |   |--- feature_16 <= 0.06\n",
            "|   |   |   |   |   |--- feature_25 <= 0.44\n",
            "|   |   |   |   |   |   |--- feature_19 <= 0.01\n",
            "|   |   |   |   |   |   |   |--- class: 0\n",
            "|   |   |   |   |   |   |--- feature_19 >  0.01\n",
            "|   |   |   |   |   |   |   |--- class: 1\n",
            "|   |   |   |   |   |--- feature_25 >  0.44\n",
            "|   |   |   |   |   |   |--- class: 1\n",
            "|   |   |   |   |--- feature_16 >  0.06\n",
            "|   |   |   |   |   |--- class: 1\n",
            "|   |   |   |--- feature_25 >  0.45\n",
            "|   |   |   |   |--- class: 0\n",
            "|--- feature_13 >  30.83\n",
            "|   |--- feature_7 <= 0.05\n",
            "|   |   |--- feature_8 <= 0.16\n",
            "|   |   |   |--- feature_12 <= 3.70\n",
            "|   |   |   |   |--- feature_27 <= 0.10\n",
            "|   |   |   |   |   |--- class: 1\n",
            "|   |   |   |   |--- feature_27 >  0.10\n",
            "|   |   |   |   |   |--- feature_7 <= 0.03\n",
            "|   |   |   |   |   |   |--- class: 1\n",
            "|   |   |   |   |   |--- feature_7 >  0.03\n",
            "|   |   |   |   |   |   |--- class: 0\n",
            "|   |   |   |--- feature_12 >  3.70\n",
            "|   |   |   |   |--- class: 0\n",
            "|   |   |--- feature_8 >  0.16\n",
            "|   |   |   |--- feature_18 <= 0.02\n",
            "|   |   |   |   |--- feature_7 <= 0.04\n",
            "|   |   |   |   |   |--- class: 1\n",
            "|   |   |   |   |--- feature_7 >  0.04\n",
            "|   |   |   |   |   |--- class: 0\n",
            "|   |   |   |--- feature_18 >  0.02\n",
            "|   |   |   |   |--- class: 1\n",
            "|   |--- feature_7 >  0.05\n",
            "|   |   |--- feature_22 <= 105.95\n",
            "|   |   |   |--- class: 1\n",
            "|   |   |--- feature_22 >  105.95\n",
            "|   |   |   |--- feature_18 <= 0.02\n",
            "|   |   |   |   |--- class: 0\n",
            "|   |   |   |--- feature_18 >  0.02\n",
            "|   |   |   |   |--- feature_21 <= 18.40\n",
            "|   |   |   |   |   |--- feature_19 <= 0.00\n",
            "|   |   |   |   |   |   |--- class: 0\n",
            "|   |   |   |   |   |--- feature_19 >  0.00\n",
            "|   |   |   |   |   |   |--- class: 1\n",
            "|   |   |   |   |--- feature_21 >  18.40\n",
            "|   |   |   |   |   |--- class: 0\n",
            "\n"
          ]
        }
      ],
      "source": [
        "dt_fit = load_model(\"./model/dt_fit.pkl\")\n",
        "y_pred = get_y_pred(dt_fit, x_test_bc)\n",
        "y_pred = dt_fit.predict(x_test_bc)\n",
        "\n",
        "dt_bc_scores = get_all_metrics_score(y_test_bc, y_pred)\n",
        "dt_bc_confusion_mat = get_confusion_matrix(y_test_bc, y_pred)\n",
        "\n",
        "print(f\"{dt_bc_scores}\\n\")\n",
        "print(f\"{dt_bc_confusion_mat}\\n\")\n",
        "print(export_text(dt))"
      ]
    },
    {
      "attachments": {},
      "cell_type": "markdown",
      "metadata": {},
      "source": [
        "#### B. Id3Estimator"
      ]
    },
    {
      "cell_type": "code",
      "execution_count": 68,
      "metadata": {
        "trusted": true
      },
      "outputs": [],
      "source": [
        "# Id3Estimator\n",
        "import six\n",
        "import sys\n",
        "sys.modules['sklearn.externals.six'] = six\n",
        "from id3 import Id3Estimator\n",
        "\n",
        "id3_estimator = Id3Estimator(prune = True, gain_ratio = True)\n",
        "id3_estimator_fit = get_fit_model(id3_estimator, x_train_bc, y_train_bc)\n",
        "save_model(id3_estimator_fit, \"./model/id3_estimator_fit.pkl\")"
      ]
    },
    {
      "cell_type": "code",
      "execution_count": 69,
      "metadata": {
        "trusted": true
      },
      "outputs": [
        {
          "name": "stdout",
          "output_type": "stream",
          "text": [
            "[0.9122807017543859, 0.8985507246376812, 0.9538461538461539, 0.9253731343283582]\n",
            "\n",
            "[[42  7]\n",
            " [ 3 62]]\n",
            "\n"
          ]
        }
      ],
      "source": [
        "id3_estimator_fit = load_model(\"./model/id3_estimator_fit.pkl\")\n",
        "y_pred = get_y_pred(id3_estimator_fit, x_test_bc)\n",
        "\n",
        "id3_bc_scores = get_all_metrics_score(y_test_bc, y_pred)\n",
        "id3_bc_confusion_mat = get_confusion_matrix(y_test_bc, y_pred)\n",
        "\n",
        "print(f\"{id3_bc_scores}\\n\")\n",
        "print(f\"{id3_bc_confusion_mat}\\n\")"
      ]
    },
    {
      "attachments": {},
      "cell_type": "markdown",
      "metadata": {},
      "source": [
        "#### C. K Means"
      ]
    },
    {
      "cell_type": "code",
      "execution_count": 93,
      "metadata": {
        "trusted": true
      },
      "outputs": [],
      "source": [
        "# K Means\n",
        "from sklearn.cluster import KMeans\n",
        "\n",
        "k_means = KMeans(n_init = \"auto\", n_clusters = 2, max_iter = 5000, random_state = 15)\n",
        "k_means_fit = get_fit_model(k_means, x_train_bc, y_train_bc)\n",
        "save_model(k_means_fit, \"./model/k_means_fit.pkl\")"
      ]
    },
    {
      "cell_type": "code",
      "execution_count": 95,
      "metadata": {
        "trusted": true
      },
      "outputs": [
        {
          "name": "stdout",
          "output_type": "stream",
          "text": [
            "[0.8421052631578947, 0.7831325301204819, 1.0, 0.8783783783783784]\n",
            "\n",
            "[[31 18]\n",
            " [ 0 65]]\n",
            "\n"
          ]
        }
      ],
      "source": [
        "k_means_fit = load_model(\"./model/k_means_fit.pkl\")\n",
        "y_pred = get_y_pred(k_means_fit, x_test_bc)\n",
        "\n",
        "k_means_bc_scores = get_all_metrics_score(y_test_bc, y_pred)\n",
        "k_means_bc_confusion_mat = get_confusion_matrix(y_test_bc, y_pred)\n",
        "\n",
        "print(f\"{k_means_bc_scores}\\n\")\n",
        "print(f\"{k_means_bc_confusion_mat}\\n\")"
      ]
    },
    {
      "attachments": {},
      "cell_type": "markdown",
      "metadata": {},
      "source": [
        "#### D. LogisticRegression"
      ]
    },
    {
      "cell_type": "code",
      "execution_count": 72,
      "metadata": {
        "trusted": true
      },
      "outputs": [],
      "source": [
        "# LogisticRegression\n",
        "from sklearn.linear_model import LogisticRegression\n",
        "\n",
        "log_reg = LogisticRegression(max_iter = 50000)\n",
        "log_reg_fit = get_fit_model(log_reg, x_train_bc, y_train_bc)\n",
        "save_model(log_reg_fit, \"./model/log_reg_fit.pkl\")"
      ]
    },
    {
      "cell_type": "code",
      "execution_count": 73,
      "metadata": {
        "trusted": true
      },
      "outputs": [
        {
          "name": "stdout",
          "output_type": "stream",
          "text": [
            "[0.9736842105263158, 0.9696969696969697, 0.9846153846153847, 0.9770992366412214]\n",
            "\n",
            "[[47  2]\n",
            " [ 1 64]]\n",
            "\n"
          ]
        }
      ],
      "source": [
        "log_reg_fit = load_model(\"./model/log_reg_fit.pkl\")\n",
        "y_pred = get_y_pred(log_reg_fit, x_test_bc)\n",
        "\n",
        "log_reg_bc_scores = get_all_metrics_score(y_test_bc, y_pred)\n",
        "log_reg_bc_confusion_mat = get_confusion_matrix(y_test_bc, y_pred)\n",
        "\n",
        "print(f\"{log_reg_bc_scores}\\n\")\n",
        "print(f\"{log_reg_bc_confusion_mat}\\n\")"
      ]
    },
    {
      "attachments": {},
      "cell_type": "markdown",
      "metadata": {},
      "source": [
        "#### E. Neural_network"
      ]
    },
    {
      "cell_type": "code",
      "execution_count": 74,
      "metadata": {
        "trusted": true
      },
      "outputs": [],
      "source": [
        "# Neural_network\n",
        "\n",
        "from sklearn.neural_network import MLPClassifier\n",
        "\n",
        "mlp = MLPClassifier(max_iter = 50000, solver = \"lbfgs\")\n",
        "mlp_fit = get_fit_model(mlp, x_train_bc, y_train_bc)\n",
        "save_model(mlp_fit, \"./model/mlp_fit.pkl\")"
      ]
    },
    {
      "cell_type": "code",
      "execution_count": 75,
      "metadata": {
        "trusted": true
      },
      "outputs": [
        {
          "name": "stdout",
          "output_type": "stream",
          "text": [
            "[0.9473684210526315, 0.9682539682539683, 0.9384615384615385, 0.953125]\n",
            "\n",
            "[[47  2]\n",
            " [ 4 61]]\n",
            "\n"
          ]
        }
      ],
      "source": [
        "mlp_fit = load_model(\"./model/mlp_fit.pkl\")\n",
        "y_pred = get_y_pred(mlp_fit, x_test_bc)\n",
        "\n",
        "mlp_bc_scores = get_all_metrics_score(y_test_bc, y_pred)\n",
        "mlp_bc_confusion_mat = get_confusion_matrix(y_test_bc, y_pred)\n",
        "\n",
        "print(f\"{mlp_bc_scores}\\n\")\n",
        "print(f\"{mlp_bc_confusion_mat}\\n\")"
      ]
    },
    {
      "attachments": {},
      "cell_type": "markdown",
      "metadata": {},
      "source": [
        "#### F. SVM"
      ]
    },
    {
      "cell_type": "code",
      "execution_count": 76,
      "metadata": {
        "trusted": true
      },
      "outputs": [],
      "source": [
        "# SVM\n",
        "\n",
        "from sklearn.svm import SVC\n",
        "\n",
        "svc = SVC(kernel = 'linear')\n",
        "svc_fit = get_fit_model(svc, x_train_bc, y_train_bc)\n",
        "save_model(svc_fit, \"./model/svc_fit.pkl\")"
      ]
    },
    {
      "cell_type": "code",
      "execution_count": 77,
      "metadata": {
        "trusted": true
      },
      "outputs": [
        {
          "name": "stdout",
          "output_type": "stream",
          "text": [
            "[0.9649122807017544, 0.9552238805970149, 0.9846153846153847, 0.9696969696969696]\n",
            "\n",
            "[[46  3]\n",
            " [ 1 64]]\n",
            "\n"
          ]
        }
      ],
      "source": [
        "svc_fit = load_model(\"./model/svc_fit.pkl\")\n",
        "y_pred = get_y_pred(svc_fit, x_test_bc)\n",
        "\n",
        "svc_bc_scores = get_all_metrics_score(y_test_bc, y_pred)\n",
        "svc_bc_confusion_mat = get_confusion_matrix(y_test_bc, y_pred)\n",
        "\n",
        "print(f\"{svc_bc_scores}\\n\")\n",
        "print(f\"{svc_bc_confusion_mat}\\n\")"
      ]
    },
    {
      "attachments": {},
      "cell_type": "markdown",
      "metadata": {},
      "source": [
        "#### Metrix Evaluasi"
      ]
    },
    {
      "cell_type": "code",
      "execution_count": 78,
      "metadata": {
        "trusted": true
      },
      "outputs": [],
      "source": [
        "index = [\n",
        "    \"DecisionTree\",\n",
        "    \"ID3\",\n",
        "    \"K Means\",\n",
        "    \"LogisticRegression\",\n",
        "    \"Neural_network\",\n",
        "    \"SVM\"\n",
        "]\n",
        "columns = [\n",
        "    \"Accuracy\", \n",
        "    \"Precision\", \n",
        "    \"Recall\", \n",
        "    \"F1\"\n",
        "]\n",
        "\n",
        "bc_algos_scores = [\n",
        "    dt_bc_scores,\n",
        "    id3_bc_scores,\n",
        "    k_means_bc_scores,\n",
        "    log_reg_bc_scores,\n",
        "    mlp_bc_scores,\n",
        "    svc_bc_scores\n",
        "]\n",
        "\n",
        "bc_algos_metrics_score = pd.DataFrame(\n",
        "    data = bc_algos_scores, \n",
        "    index = index, \n",
        "    columns = [[\"Breast Cancer\" for i in range(len(columns))], columns])"
      ]
    },
    {
      "attachments": {},
      "cell_type": "markdown",
      "metadata": {},
      "source": [
        "### 5. Analisis hasil metrik evaluasi"
      ]
    },
    {
      "cell_type": "code",
      "execution_count": 79,
      "metadata": {},
      "outputs": [
        {
          "data": {
            "text/html": [
              "<div>\n",
              "<style scoped>\n",
              "    .dataframe tbody tr th:only-of-type {\n",
              "        vertical-align: middle;\n",
              "    }\n",
              "\n",
              "    .dataframe tbody tr th {\n",
              "        vertical-align: top;\n",
              "    }\n",
              "\n",
              "    .dataframe thead tr th {\n",
              "        text-align: left;\n",
              "    }\n",
              "</style>\n",
              "<table border=\"1\" class=\"dataframe\">\n",
              "  <thead>\n",
              "    <tr>\n",
              "      <th></th>\n",
              "      <th colspan=\"4\" halign=\"left\">Breast Cancer</th>\n",
              "    </tr>\n",
              "    <tr>\n",
              "      <th></th>\n",
              "      <th>Accuracy</th>\n",
              "      <th>Precision</th>\n",
              "      <th>Recall</th>\n",
              "      <th>F1</th>\n",
              "    </tr>\n",
              "  </thead>\n",
              "  <tbody>\n",
              "    <tr>\n",
              "      <th>DecisionTree</th>\n",
              "      <td>0.912281</td>\n",
              "      <td>0.910448</td>\n",
              "      <td>0.938462</td>\n",
              "      <td>0.924242</td>\n",
              "    </tr>\n",
              "    <tr>\n",
              "      <th>ID3</th>\n",
              "      <td>0.912281</td>\n",
              "      <td>0.898551</td>\n",
              "      <td>0.953846</td>\n",
              "      <td>0.925373</td>\n",
              "    </tr>\n",
              "    <tr>\n",
              "      <th>K Means</th>\n",
              "      <td>0.842105</td>\n",
              "      <td>0.783133</td>\n",
              "      <td>1.000000</td>\n",
              "      <td>0.878378</td>\n",
              "    </tr>\n",
              "    <tr>\n",
              "      <th>LogisticRegression</th>\n",
              "      <td>0.973684</td>\n",
              "      <td>0.969697</td>\n",
              "      <td>0.984615</td>\n",
              "      <td>0.977099</td>\n",
              "    </tr>\n",
              "    <tr>\n",
              "      <th>Neural_network</th>\n",
              "      <td>0.947368</td>\n",
              "      <td>0.968254</td>\n",
              "      <td>0.938462</td>\n",
              "      <td>0.953125</td>\n",
              "    </tr>\n",
              "    <tr>\n",
              "      <th>SVM</th>\n",
              "      <td>0.964912</td>\n",
              "      <td>0.955224</td>\n",
              "      <td>0.984615</td>\n",
              "      <td>0.969697</td>\n",
              "    </tr>\n",
              "  </tbody>\n",
              "</table>\n",
              "</div>"
            ],
            "text/plain": [
              "                   Breast Cancer                              \n",
              "                        Accuracy Precision    Recall        F1\n",
              "DecisionTree            0.912281  0.910448  0.938462  0.924242\n",
              "ID3                     0.912281  0.898551  0.953846  0.925373\n",
              "K Means                 0.842105  0.783133  1.000000  0.878378\n",
              "LogisticRegression      0.973684  0.969697  0.984615  0.977099\n",
              "Neural_network          0.947368  0.968254  0.938462  0.953125\n",
              "SVM                     0.964912  0.955224  0.984615  0.969697"
            ]
          },
          "execution_count": 79,
          "metadata": {},
          "output_type": "execute_result"
        }
      ],
      "source": [
        "bc_algos_metrics_score"
      ]
    },
    {
      "cell_type": "code",
      "execution_count": 80,
      "metadata": {},
      "outputs": [
        {
          "data": {
            "text/plain": [
              "<Axes: >"
            ]
          },
          "execution_count": 80,
          "metadata": {},
          "output_type": "execute_result"
        },
        {
          "data": {
            "image/png": "[encoded data removed]",
            "text/plain": [
              "<Figure size 1600x800 with 1 Axes>"
            ]
          },
          "metadata": {},
          "output_type": "display_data"
        }
      ],
      "source": [
        "import matplotlib.pyplot as plt\n",
        "\n",
        "x = 2\n",
        "\n",
        "bc_algos_metrics_score.plot.bar(stacked=False, figsize=(16,8))"
      ]
    },
    {
      "attachments": {},
      "cell_type": "markdown",
      "metadata": {},
      "source": [
        "Data evaluasi hasil prediksi tiap metrics untuk setiap algoritma (sebagai bentuk perbandingan nilai) dapat dilihat pada tabel `bc_algos_metrics_score` atau gambar di atas. Secara umum, model-model dari algoritma telah dilakukan tuning untuk menghasilkan hasil prediksi yang lebih baik.\n",
        "\n",
        "id3_estimator = Id3Estimator(prune = True, gain_ratio = True)\n",
        "k_means = KMeans(n_init = \"auto\", n_clusters = 2, max_iter = 5000, random_state = 15)\n",
        "log_reg = LogisticRegression(max_iter = 50000)\n",
        "mlp = MLPClassifier(max_iter = 50000, solver = \"lbfgs\")\n",
        "svc = SVC(kernel = 'linear')\n",
        "\n",
        "##### 1. Decision Tree\n",
        "Berdasarkan data yang disajikan, skor yang didapat masih kalah dengan beberapa algoritma lain, seperti Logistic Regression, Nerural Network, dan SVM, walaupun telah dilakukan tuning.\n",
        "Terkait tuning, digunakan criterion berupa \"entropy\" dari yang default-nya \"gini\". Criterion \"entropy\" menggunakan information gain dan menghasilkan nilai yang lebih baik. Selain itu, digunakan max features berupa \"sqrt\" yang menggunakan `sqrt(jumlah_fitur)` untuk pemilihan best split, menghasilkan nilai yang lebih baik. \n",
        "\n",
        "##### 2. ID3\n",
        "Berdasarkan grafik, terlihat bahwa nilai-nilai metric antara ID3 dan Decision Tree relatif mirip.\n",
        "Pada algoritma ini, digunakan 2 atribut tuning, yaitu prune dan gain ratio. Prune yang bernilai true akan mengimplementasikan pruning terhadap tree yang dibuat dan menghasilkan skor yang lebih baik. Gain_ratio yang bernilai true berpengaruh terhadap kalkulasi saat splitting tree dan menghasilkan skor yang lebih baik. \n",
        "\n",
        "##### 3. K-Means\n",
        "Berdasarkan grafik, terlihat bahwa algoritma ini memiliki rata-rata skor metrics terendah. Hal tersebut turut disebabkan jumlah kluster default yang di-set bernilai 8 dan keterbatasan label yang ada pada dataset. Untuk meningkatkan nilainya, digunakan parameter n_clusters bernilai 2. Max_iter yang di-set ke-5000 telah membuat hasil prediksi cukup konstan jika dibandingkan max_iter yang di-set ke nilai lebih tinggi.\n",
        "\n",
        "##### 4. Logistic Regression\n",
        "Walaupun tanpa tuning, algoritma ini memberikan skor tertinggi dibandingkan algoritma-algoritma lain yang dites. Max_iter di-set sehingga fungsi prediksi dapat mencapai daerah konvergen yang didefinisikan sklearn.\n",
        "\n",
        "##### 5. Neural Network\n",
        "Berdasarkan grafik, algoritma ini memberikan skor yang relatif baik dan hanya kalah sedikit dari algoritma SVM dan Logistic Regression.\n",
        "Pada model algoritma ini, turut dilakukan tuning dengan menggunakan atribut \"solver\" bernilai \"lbfgs\". Atribut tersebut mendefinisikan weight optimization pada proses pelatihan yang mengimplmenetasikan quasi-Newton methods. Jenis solver ini membuat konvergen lebih cepat tercapai dan hasil yang didapatkan lebih baik dibandingkan beberapa jenis solver lainnya. \n",
        "\n",
        "##### 6. SVM\n",
        "Walaupun tanpa tuning, algoritma ini secara rata-rata menghasilkan skor terbaik kedua, yakni hanya kalah relatif sedikit dari Logistic Regression. Walaupun begitu, pemilihan nilai linear pada atribut kernel turut meningkat skor.\n"
      ]
    },
    {
      "attachments": {},
      "cell_type": "markdown",
      "metadata": {},
      "source": [
        "### 6. K-fold cross validation  "
      ]
    },
    {
      "cell_type": "code",
      "execution_count": 96,
      "metadata": {},
      "outputs": [
        {
          "name": "stdout",
          "output_type": "stream",
          "text": [
            "accuracy : 0.9157581453634085\n",
            "F1 score : 0.9328963186240007\n"
          ]
        }
      ],
      "source": [
        "from sklearn.model_selection import cross_validate\n",
        "from numpy import mean\n",
        "\n",
        "#use k-fold CV to evaluate model\n",
        "cv_result = cross_validate(dt, x_bc, y_bc, scoring=(\"accuracy\", \"f1\"), cv=10)\n",
        "print(\"accuracy:\", sum(cv_result['test_accuracy'])/len(cv_result['test_accuracy']))\n",
        "print(\"F1 score:\", sum(cv_result['test_f1'])/len(cv_result['test_f1']))"
      ]
    },
    {
      "attachments": {},
      "cell_type": "markdown",
      "metadata": {},
      "source": [
        "Dari hasil penerapan cross validation di atas diperoleh rata-rata hasil akurasi 0.9157581453634085 dan rata-rata F1 score-nya adalah 0.9328963186240007 untuk algoritma Decision Tree Classifier. Untuk metrik sejenis, yaitu akurasi dan F1 score, nilai tersebut lebih tinggi dibandingkan hasil metrik pada perhitungan soal butir 4, yang berakurasi: 0.912281 dan F1 score: 0.924242. \n",
        "Beberapa alasannya, hal tersebut dikarenakan metode K-Fold cross validation akan membagi data sebanyak K bagian (fold). Misalkan, pada contoh di atas kita telah membagi data menjadi 10 bagian yaitu K=10. Kemudian 10 set data tersebut digunakan untuk melakukan training dan testing model. Jadi model akan di-train dan di-test 10 kali, tetapi untuk setiap iterasi kita akan menggunakan satu bagian sebagai data testing dan sisanya sebagai data training. Perhatikan bahwa untuk setiap iterasi, data training dan testing yang digunakan berubah-ubah sehingga menambah keefektifan metode ini. Oleh karena itu, metode secara signifikan mengurangi underfitting karena kita menggunakan sebagian besar data untuk pelatihan (fitting), dan juga secara signifikan mengurangi overfitting karena sebagian besar data juga digunakan dalam set validasi."
      ]
    }
  ],
  "metadata": {
    "kernelspec": {
      "display_name": "Python 3.10.8 ('tucil1-ml')",
      "language": "python",
      "name": "python3"
    },
    "language_info": {
      "codemirror_mode": {
        "name": "ipython",
        "version": 3
      },
      "file_extension": ".py",
      "mimetype": "text/x-python",
      "name": "python",
      "nbconvert_exporter": "python",
      "pygments_lexer": "ipython3",
      "version": "3.10.8"
    },
    "vscode": {
      "interpreter": {
        "hash": "163201c49b7edd9d29a34ce925cdda9060b7f411a0b41c7e465e1ef5bf3c5a96"
      }
    }
  },
  "nbformat": 4,
  "nbformat_minor": 4
}
