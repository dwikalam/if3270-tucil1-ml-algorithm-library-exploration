{
  "cells": [
    {
      "attachments": {},
      "cell_type": "markdown",
      "metadata": {},
      "source": [
        "### 1. Membaca dataset (load dataset)"
      ]
    },
    {
      "cell_type": "code",
      "execution_count": 166,
      "metadata": {
        "trusted": true
      },
      "outputs": [],
      "source": [
        "from sklearn import datasets\n",
        "import pandas as pd\n",
        "\n",
        "bc = datasets.load_breast_cancer()\n",
        "df_bc = pd.DataFrame(bc.data, columns = bc.feature_names)\n",
        "df_bc[\"target\"] = bc.target\n",
        "\n",
        "x_bc = df_bc.iloc[:, :-1]\n",
        "y_bc = df_bc[\"target\"]"
      ]
    },
    {
      "cell_type": "code",
      "execution_count": 167,
      "metadata": {},
      "outputs": [
        {
          "name": "stdout",
          "output_type": "stream",
          "text": [
            "<class 'pandas.core.frame.DataFrame'>\n",
            "RangeIndex: 569 entries, 0 to 568\n",
            "Data columns (total 31 columns):\n",
            " #   Column                   Non-Null Count  Dtype  \n",
            "---  ------                   --------------  -----  \n",
            " 0   mean radius              569 non-null    float64\n",
            " 1   mean texture             569 non-null    float64\n",
            " 2   mean perimeter           569 non-null    float64\n",
            " 3   mean area                569 non-null    float64\n",
            " 4   mean smoothness          569 non-null    float64\n",
            " 5   mean compactness         569 non-null    float64\n",
            " 6   mean concavity           569 non-null    float64\n",
            " 7   mean concave points      569 non-null    float64\n",
            " 8   mean symmetry            569 non-null    float64\n",
            " 9   mean fractal dimension   569 non-null    float64\n",
            " 10  radius error             569 non-null    float64\n",
            " 11  texture error            569 non-null    float64\n",
            " 12  perimeter error          569 non-null    float64\n",
            " 13  area error               569 non-null    float64\n",
            " 14  smoothness error         569 non-null    float64\n",
            " 15  compactness error        569 non-null    float64\n",
            " 16  concavity error          569 non-null    float64\n",
            " 17  concave points error     569 non-null    float64\n",
            " 18  symmetry error           569 non-null    float64\n",
            " 19  fractal dimension error  569 non-null    float64\n",
            " 20  worst radius             569 non-null    float64\n",
            " 21  worst texture            569 non-null    float64\n",
            " 22  worst perimeter          569 non-null    float64\n",
            " 23  worst area               569 non-null    float64\n",
            " 24  worst smoothness         569 non-null    float64\n",
            " 25  worst compactness        569 non-null    float64\n",
            " 26  worst concavity          569 non-null    float64\n",
            " 27  worst concave points     569 non-null    float64\n",
            " 28  worst symmetry           569 non-null    float64\n",
            " 29  worst fractal dimension  569 non-null    float64\n",
            " 30  target                   569 non-null    int32  \n",
            "dtypes: float64(30), int32(1)\n",
            "memory usage: 135.7 KB\n"
          ]
        }
      ],
      "source": [
        "df_bc.info()"
      ]
    },
    {
      "cell_type": "code",
      "execution_count": 168,
      "metadata": {
        "trusted": true
      },
      "outputs": [],
      "source": [
        "from sklearn.model_selection import train_test_split\n",
        "\n",
        "x_train_bc, x_test_bc, y_train_bc, y_test_bc = train_test_split(\n",
        "    x_bc, \n",
        "    y_bc, \n",
        "    test_size = 0.2, \n",
        "    random_state = 568\n",
        ")"
      ]
    },
    {
      "attachments": {},
      "cell_type": "markdown",
      "metadata": {},
      "source": [
        "### 2. Melakukan Pembelajaran\n",
        "### 3. Simpan Model Hasil Pembelajaran\n",
        "### 4. Proses Preditiction"
      ]
    },
    {
      "cell_type": "code",
      "execution_count": 169,
      "metadata": {
        "trusted": true
      },
      "outputs": [],
      "source": [
        "from sklearn.metrics import accuracy_score, precision_score, recall_score, f1_score, confusion_matrix\n",
        "\n",
        "def get_fit_model(model, x_train, y_train):\n",
        "    return model.fit(x_train, y_train)\n",
        "\n",
        "def get_y_pred(fit_model, x_test):\n",
        "    y_pred = fit_model.predict(x_test)\n",
        "    return y_pred\n",
        "\n",
        "def get_all_metrics_score(y_test, y_pred):\n",
        "    return [\n",
        "        accuracy_score(y_test, y_pred), \n",
        "        precision_score(y_test, y_pred),\n",
        "        recall_score(y_test, y_pred),\n",
        "        f1_score(y_test, y_pred)\n",
        "    ]\n",
        "\n",
        "def get_confusion_matrix(y_test, y_pred):\n",
        "    return confusion_matrix(y_test, y_pred)"
      ]
    },
    {
      "cell_type": "code",
      "execution_count": 170,
      "metadata": {
        "trusted": true
      },
      "outputs": [],
      "source": [
        "import pickle\n",
        "def save_model(model, dest_path):\n",
        "    # pkl extension\n",
        "    pickle.dump(model, open(dest_path, 'wb'))\n",
        "    \n",
        "def load_model(src_path):\n",
        "    # pkl extension\n",
        "    return pickle.load(open(src_path, 'rb'))"
      ]
    },
    {
      "attachments": {},
      "cell_type": "markdown",
      "metadata": {},
      "source": [
        "#### A. DecisionTreeClassifier"
      ]
    },
    {
      "cell_type": "code",
      "execution_count": 171,
      "metadata": {
        "trusted": true
      },
      "outputs": [],
      "source": [
        "# DecisionTreeClassifier\n",
        "\n",
        "from sklearn.model_selection import cross_val_score\n",
        "from sklearn.tree import export_text\n",
        "\n",
        "dt = tree.DecisionTreeClassifier(criterion = \"entropy\", max_features = \"sqrt\", random_state = 40)\n",
        "dt_fit = get_fit_model(dt, x_train_bc, y_train_bc)\n",
        "save_model(dt_fit, \"./model/dt_fit.pkl\")"
      ]
    },
    {
      "cell_type": "code",
      "execution_count": 172,
      "metadata": {
        "trusted": true
      },
      "outputs": [
        {
          "name": "stdout",
          "output_type": "stream",
          "text": [
            "[0.9122807017543859, 0.9104477611940298, 0.9384615384615385, 0.9242424242424243]\n",
            "\n",
            "[[43  6]\n",
            " [ 4 61]]\n",
            "\n",
            "|--- feature_13 <= 30.83\n",
            "|   |--- feature_21 <= 25.83\n",
            "|   |   |--- feature_23 <= 989.45\n",
            "|   |   |   |--- feature_25 <= 0.50\n",
            "|   |   |   |   |--- class: 1\n",
            "|   |   |   |--- feature_25 >  0.50\n",
            "|   |   |   |   |--- feature_20 <= 15.45\n",
            "|   |   |   |   |   |--- class: 1\n",
            "|   |   |   |   |--- feature_20 >  15.45\n",
            "|   |   |   |   |   |--- class: 0\n",
            "|   |   |--- feature_23 >  989.45\n",
            "|   |   |   |--- class: 0\n",
            "|   |--- feature_21 >  25.83\n",
            "|   |   |--- feature_25 <= 0.35\n",
            "|   |   |   |--- feature_7 <= 0.05\n",
            "|   |   |   |   |--- feature_14 <= 0.00\n",
            "|   |   |   |   |   |--- class: 0\n",
            "|   |   |   |   |--- feature_14 >  0.00\n",
            "|   |   |   |   |   |--- feature_22 <= 113.95\n",
            "|   |   |   |   |   |   |--- feature_21 <= 33.27\n",
            "|   |   |   |   |   |   |   |--- class: 1\n",
            "|   |   |   |   |   |   |--- feature_21 >  33.27\n",
            "|   |   |   |   |   |   |   |--- feature_23 <= 643.25\n",
            "|   |   |   |   |   |   |   |   |--- class: 1\n",
            "|   |   |   |   |   |   |   |--- feature_23 >  643.25\n",
            "|   |   |   |   |   |   |   |   |--- feature_20 <= 14.59\n",
            "|   |   |   |   |   |   |   |   |   |--- class: 0\n",
            "|   |   |   |   |   |   |   |   |--- feature_20 >  14.59\n",
            "|   |   |   |   |   |   |   |   |   |--- class: 1\n",
            "|   |   |   |   |   |--- feature_22 >  113.95\n",
            "|   |   |   |   |   |   |--- class: 0\n",
            "|   |   |   |--- feature_7 >  0.05\n",
            "|   |   |   |   |--- class: 0\n",
            "|   |   |--- feature_25 >  0.35\n",
            "|   |   |   |--- feature_25 <= 0.45\n",
            "|   |   |   |   |--- feature_16 <= 0.06\n",
            "|   |   |   |   |   |--- feature_25 <= 0.44\n",
            "|   |   |   |   |   |   |--- feature_19 <= 0.01\n",
            "|   |   |   |   |   |   |   |--- class: 0\n",
            "|   |   |   |   |   |   |--- feature_19 >  0.01\n",
            "|   |   |   |   |   |   |   |--- class: 1\n",
            "|   |   |   |   |   |--- feature_25 >  0.44\n",
            "|   |   |   |   |   |   |--- class: 1\n",
            "|   |   |   |   |--- feature_16 >  0.06\n",
            "|   |   |   |   |   |--- class: 1\n",
            "|   |   |   |--- feature_25 >  0.45\n",
            "|   |   |   |   |--- class: 0\n",
            "|--- feature_13 >  30.83\n",
            "|   |--- feature_7 <= 0.05\n",
            "|   |   |--- feature_8 <= 0.16\n",
            "|   |   |   |--- feature_12 <= 3.70\n",
            "|   |   |   |   |--- feature_27 <= 0.10\n",
            "|   |   |   |   |   |--- class: 1\n",
            "|   |   |   |   |--- feature_27 >  0.10\n",
            "|   |   |   |   |   |--- feature_7 <= 0.03\n",
            "|   |   |   |   |   |   |--- class: 1\n",
            "|   |   |   |   |   |--- feature_7 >  0.03\n",
            "|   |   |   |   |   |   |--- class: 0\n",
            "|   |   |   |--- feature_12 >  3.70\n",
            "|   |   |   |   |--- class: 0\n",
            "|   |   |--- feature_8 >  0.16\n",
            "|   |   |   |--- feature_18 <= 0.02\n",
            "|   |   |   |   |--- feature_7 <= 0.04\n",
            "|   |   |   |   |   |--- class: 1\n",
            "|   |   |   |   |--- feature_7 >  0.04\n",
            "|   |   |   |   |   |--- class: 0\n",
            "|   |   |   |--- feature_18 >  0.02\n",
            "|   |   |   |   |--- class: 1\n",
            "|   |--- feature_7 >  0.05\n",
            "|   |   |--- feature_22 <= 105.95\n",
            "|   |   |   |--- class: 1\n",
            "|   |   |--- feature_22 >  105.95\n",
            "|   |   |   |--- feature_18 <= 0.02\n",
            "|   |   |   |   |--- class: 0\n",
            "|   |   |   |--- feature_18 >  0.02\n",
            "|   |   |   |   |--- feature_21 <= 18.40\n",
            "|   |   |   |   |   |--- feature_19 <= 0.00\n",
            "|   |   |   |   |   |   |--- class: 0\n",
            "|   |   |   |   |   |--- feature_19 >  0.00\n",
            "|   |   |   |   |   |   |--- class: 1\n",
            "|   |   |   |   |--- feature_21 >  18.40\n",
            "|   |   |   |   |   |--- class: 0\n",
            "\n"
          ]
        }
      ],
      "source": [
        "dt_fit = load_model(\"./model/dt_fit.pkl\")\n",
        "y_pred = get_y_pred(dt_fit, x_test_bc)\n",
        "y_pred = dt_fit.predict(x_test_bc)\n",
        "\n",
        "dt_bc_scores = get_all_metrics_score(y_test_bc, y_pred)\n",
        "dt_bc_cv_scores = cross_val_score(dt, x_bc, y_bc, cv=10)\n",
        "dt_bc_cv_scores = cross_val_score(dt, x_bc, y_bc, cv=10, scoring='f1_macro')\n",
        "dt_bc_confusion_mat = get_confusion_matrix(y_test_bc, y_pred)\n",
        "\n",
        "print(f\"{dt_bc_scores}\\n\")\n",
        "print(f\"{dt_bc_confusion_mat}\\n\")\n",
        "print(export_text(dt))"
      ]
    },
    {
      "attachments": {},
      "cell_type": "markdown",
      "metadata": {},
      "source": [
        "#### B. Id3Estimator"
      ]
    },
    {
      "cell_type": "code",
      "execution_count": 173,
      "metadata": {
        "trusted": true
      },
      "outputs": [],
      "source": [
        "# Id3Estimator\n",
        "import six\n",
        "import sys\n",
        "sys.modules['sklearn.externals.six'] = six\n",
        "import mlrose\n",
        "from id3 import Id3Estimator\n",
        "\n",
        "id3_estimator = Id3Estimator(prune = True, gain_ratio = True)\n",
        "id3_estimator_fit = get_fit_model(id3_estimator, x_train_bc, y_train_bc)\n",
        "save_model(id3_estimator_fit, \"./model/id3_estimator_fit.pkl\")"
      ]
    },
    {
      "cell_type": "code",
      "execution_count": 174,
      "metadata": {
        "trusted": true
      },
      "outputs": [
        {
          "name": "stdout",
          "output_type": "stream",
          "text": [
            "[0.9210526315789473, 0.9242424242424242, 0.9384615384615385, 0.9312977099236641]\n",
            "\n",
            "[[44  5]\n",
            " [ 4 61]]\n",
            "\n"
          ]
        }
      ],
      "source": [
        "id3_estimator_fit = load_model(\"./model/id3_estimator_fit.pkl\")\n",
        "y_pred = get_y_pred(id3_estimator_fit, x_test_bc)\n",
        "\n",
        "id3_bc_scores = get_all_metrics_score(y_test_bc, y_pred)\n",
        "id3_bc_confusion_mat = get_confusion_matrix(y_test_bc, y_pred)\n",
        "\n",
        "print(f\"{id3_bc_scores}\\n\")\n",
        "print(f\"{id3_bc_confusion_mat}\\n\")"
      ]
    },
    {
      "attachments": {},
      "cell_type": "markdown",
      "metadata": {},
      "source": [
        "#### C. K Means"
      ]
    },
    {
      "cell_type": "code",
      "execution_count": 175,
      "metadata": {
        "trusted": true
      },
      "outputs": [],
      "source": [
        "# K Means\n",
        "from sklearn.cluster import KMeans\n",
        "\n",
        "k_means = KMeans(n_init = \"auto\", n_clusters = 2, max_iter = 5000, random_state = 15)\n",
        "k_means_fit = get_fit_model(k_means, x_train_bc, y_train_bc)\n",
        "save_model(k_means_fit, \"./model/k_means_fit.pkl\")"
      ]
    },
    {
      "cell_type": "code",
      "execution_count": 176,
      "metadata": {
        "trusted": true
      },
      "outputs": [
        {
          "name": "stdout",
          "output_type": "stream",
          "text": [
            "[0.8421052631578947, 0.7831325301204819, 1.0, 0.8783783783783784]\n",
            "\n",
            "[[31 18]\n",
            " [ 0 65]]\n",
            "\n"
          ]
        }
      ],
      "source": [
        "k_means_fit = load_model(\"./model/k_means_fit.pkl\")\n",
        "y_pred = get_y_pred(k_means_fit, x_test_bc)\n",
        "\n",
        "k_means_bc_scores = get_all_metrics_score(y_test_bc, y_pred)\n",
        "k_means_bc_confusion_mat = get_confusion_matrix(y_test_bc, y_pred)\n",
        "\n",
        "print(f\"{k_means_bc_scores}\\n\")\n",
        "print(f\"{k_means_bc_confusion_mat}\\n\")"
      ]
    },
    {
      "attachments": {},
      "cell_type": "markdown",
      "metadata": {},
      "source": [
        "#### D. LogisticRegression"
      ]
    },
    {
      "cell_type": "code",
      "execution_count": 177,
      "metadata": {
        "trusted": true
      },
      "outputs": [],
      "source": [
        "# LogisticRegression\n",
        "from sklearn.linear_model import LogisticRegression\n",
        "\n",
        "log_reg = LogisticRegression(max_iter = 5000)\n",
        "log_reg_fit = get_fit_model(log_reg, x_train_bc, y_train_bc)\n",
        "save_model(log_reg_fit, \"./model/log_reg_fit.pkl\")"
      ]
    },
    {
      "cell_type": "code",
      "execution_count": 178,
      "metadata": {
        "trusted": true
      },
      "outputs": [
        {
          "name": "stdout",
          "output_type": "stream",
          "text": [
            "[0.9736842105263158, 0.9696969696969697, 0.9846153846153847, 0.9770992366412214]\n",
            "\n",
            "[[47  2]\n",
            " [ 1 64]]\n",
            "\n"
          ]
        }
      ],
      "source": [
        "log_reg_fit = load_model(\"./model/log_reg_fit.pkl\")\n",
        "y_pred = get_y_pred(log_reg_fit, x_test_bc)\n",
        "\n",
        "log_reg_bc_scores = get_all_metrics_score(y_test_bc, y_pred)\n",
        "log_reg_bc_confusion_mat = get_confusion_matrix(y_test_bc, y_pred)\n",
        "\n",
        "print(f\"{log_reg_bc_scores}\\n\")\n",
        "print(f\"{log_reg_bc_confusion_mat}\\n\")"
      ]
    },
    {
      "attachments": {},
      "cell_type": "markdown",
      "metadata": {},
      "source": [
        "#### E. Neural_network"
      ]
    },
    {
      "cell_type": "code",
      "execution_count": 179,
      "metadata": {
        "trusted": true
      },
      "outputs": [
        {
          "name": "stderr",
          "output_type": "stream",
          "text": [
            "c:\\Users\\ASUS VIVOBOOK\\AppData\\Local\\Programs\\Python\\Python311\\Lib\\site-packages\\sklearn\\neural_network\\_multilayer_perceptron.py:536: ConvergenceWarning: lbfgs failed to converge (status=2):\n",
            "ABNORMAL_TERMINATION_IN_LNSRCH.\n",
            "\n",
            "Increase the number of iterations (max_iter) or scale the data as shown in:\n",
            "    https://scikit-learn.org/stable/modules/preprocessing.html\n",
            "  self.n_iter_ = _check_optimize_result(\"lbfgs\", opt_res, self.max_iter)\n"
          ]
        }
      ],
      "source": [
        "# Neural_network\n",
        "\n",
        "from sklearn.neural_network import MLPClassifier\n",
        "\n",
        "mlp = MLPClassifier(max_iter = 5000, solver = \"lbfgs\")\n",
        "mlp_fit = get_fit_model(mlp, x_train_bc, y_train_bc)\n",
        "save_model(mlp_fit, \"./model/mlp_fit.pkl\")"
      ]
    },
    {
      "cell_type": "code",
      "execution_count": 180,
      "metadata": {
        "trusted": true
      },
      "outputs": [
        {
          "name": "stdout",
          "output_type": "stream",
          "text": [
            "[0.5701754385964912, 0.5701754385964912, 1.0, 0.7262569832402235]\n",
            "\n",
            "[[ 0 49]\n",
            " [ 0 65]]\n",
            "\n"
          ]
        }
      ],
      "source": [
        "mlp_fit = load_model(\"./model/mlp_fit.pkl\")\n",
        "y_pred = get_y_pred(mlp_fit, x_test_bc)\n",
        "\n",
        "mlp_bc_scores = get_all_metrics_score(y_test_bc, y_pred)\n",
        "mlp_bc_confusion_mat = get_confusion_matrix(y_test_bc, y_pred)\n",
        "\n",
        "print(f\"{mlp_bc_scores}\\n\")\n",
        "print(f\"{mlp_bc_confusion_mat}\\n\")"
      ]
    },
    {
      "attachments": {},
      "cell_type": "markdown",
      "metadata": {},
      "source": [
        "#### F. SVM"
      ]
    },
    {
      "cell_type": "code",
      "execution_count": 181,
      "metadata": {
        "trusted": true
      },
      "outputs": [],
      "source": [
        "# SVM\n",
        "\n",
        "from sklearn.svm import SVC\n",
        "\n",
        "svc = SVC(kernel = 'linear')\n",
        "svc_fit = get_fit_model(svc, x_train_bc, y_train_bc)\n",
        "save_model(svc_fit, \"./model/svc_fit.pkl\")"
      ]
    },
    {
      "cell_type": "code",
      "execution_count": 182,
      "metadata": {
        "trusted": true
      },
      "outputs": [
        {
          "name": "stdout",
          "output_type": "stream",
          "text": [
            "[0.9649122807017544, 0.9552238805970149, 0.9846153846153847, 0.9696969696969696]\n",
            "\n",
            "[[46  3]\n",
            " [ 1 64]]\n",
            "\n"
          ]
        }
      ],
      "source": [
        "svc_fit = load_model(\"./model/svc_fit.pkl\")\n",
        "y_pred = get_y_pred(svc_fit, x_test_bc)\n",
        "\n",
        "svc_bc_scores = get_all_metrics_score(y_test_bc, y_pred)\n",
        "svc_bc_confusion_mat = get_confusion_matrix(y_test_bc, y_pred)\n",
        "\n",
        "print(f\"{svc_bc_scores}\\n\")\n",
        "print(f\"{svc_bc_confusion_mat}\\n\")"
      ]
    },
    {
      "attachments": {},
      "cell_type": "markdown",
      "metadata": {},
      "source": [
        "#### Metrix Evaluasi"
      ]
    },
    {
      "cell_type": "code",
      "execution_count": 183,
      "metadata": {
        "trusted": true
      },
      "outputs": [],
      "source": [
        "index = [\n",
        "    \"DecisionTree\",\n",
        "    \"ID3\",\n",
        "    \"K Means\",\n",
        "    \"LogisticRegression\",\n",
        "    \"Neural_network\",\n",
        "    \"SVM\"\n",
        "]\n",
        "columns = [\n",
        "    \"Accuracy\", \n",
        "    \"Precision\", \n",
        "    \"Recall\", \n",
        "    \"F1\"\n",
        "]\n",
        "\n",
        "bc_algos_scores = [\n",
        "    dt_bc_scores,\n",
        "    id3_bc_scores,\n",
        "    k_means_bc_scores,\n",
        "    log_reg_bc_scores,\n",
        "    mlp_bc_scores,\n",
        "    svc_bc_scores\n",
        "]\n",
        "\n",
        "bc_algos_metrics_score = pd.DataFrame(\n",
        "    data = bc_algos_scores, \n",
        "    index = index, \n",
        "    columns = [[\"Breast Cancer\" for i in range(len(columns))], columns])"
      ]
    },
    {
      "cell_type": "code",
      "execution_count": 184,
      "metadata": {
        "trusted": true
      },
      "outputs": [
        {
          "data": {
            "text/html": [
              "<div>\n",
              "<style scoped>\n",
              "    .dataframe tbody tr th:only-of-type {\n",
              "        vertical-align: middle;\n",
              "    }\n",
              "\n",
              "    .dataframe tbody tr th {\n",
              "        vertical-align: top;\n",
              "    }\n",
              "\n",
              "    .dataframe thead tr th {\n",
              "        text-align: left;\n",
              "    }\n",
              "</style>\n",
              "<table border=\"1\" class=\"dataframe\">\n",
              "  <thead>\n",
              "    <tr>\n",
              "      <th></th>\n",
              "      <th colspan=\"4\" halign=\"left\">Breast Cancer</th>\n",
              "    </tr>\n",
              "    <tr>\n",
              "      <th></th>\n",
              "      <th>Accuracy</th>\n",
              "      <th>Precision</th>\n",
              "      <th>Recall</th>\n",
              "      <th>F1</th>\n",
              "    </tr>\n",
              "  </thead>\n",
              "  <tbody>\n",
              "    <tr>\n",
              "      <th>DecisionTree</th>\n",
              "      <td>0.912281</td>\n",
              "      <td>0.910448</td>\n",
              "      <td>0.938462</td>\n",
              "      <td>0.924242</td>\n",
              "    </tr>\n",
              "    <tr>\n",
              "      <th>ID3</th>\n",
              "      <td>0.921053</td>\n",
              "      <td>0.924242</td>\n",
              "      <td>0.938462</td>\n",
              "      <td>0.931298</td>\n",
              "    </tr>\n",
              "    <tr>\n",
              "      <th>K Means</th>\n",
              "      <td>0.842105</td>\n",
              "      <td>0.783133</td>\n",
              "      <td>1.000000</td>\n",
              "      <td>0.878378</td>\n",
              "    </tr>\n",
              "    <tr>\n",
              "      <th>LogisticRegression</th>\n",
              "      <td>0.973684</td>\n",
              "      <td>0.969697</td>\n",
              "      <td>0.984615</td>\n",
              "      <td>0.977099</td>\n",
              "    </tr>\n",
              "    <tr>\n",
              "      <th>Neural_network</th>\n",
              "      <td>0.570175</td>\n",
              "      <td>0.570175</td>\n",
              "      <td>1.000000</td>\n",
              "      <td>0.726257</td>\n",
              "    </tr>\n",
              "    <tr>\n",
              "      <th>SVM</th>\n",
              "      <td>0.964912</td>\n",
              "      <td>0.955224</td>\n",
              "      <td>0.984615</td>\n",
              "      <td>0.969697</td>\n",
              "    </tr>\n",
              "  </tbody>\n",
              "</table>\n",
              "</div>"
            ],
            "text/plain": [
              "                   Breast Cancer                              \n",
              "                        Accuracy Precision    Recall        F1\n",
              "DecisionTree            0.912281  0.910448  0.938462  0.924242\n",
              "ID3                     0.921053  0.924242  0.938462  0.931298\n",
              "K Means                 0.842105  0.783133  1.000000  0.878378\n",
              "LogisticRegression      0.973684  0.969697  0.984615  0.977099\n",
              "Neural_network          0.570175  0.570175  1.000000  0.726257\n",
              "SVM                     0.964912  0.955224  0.984615  0.969697"
            ]
          },
          "execution_count": 184,
          "metadata": {},
          "output_type": "execute_result"
        }
      ],
      "source": [
        "bc_algos_metrics_score"
      ]
    },
    {
      "attachments": {},
      "cell_type": "markdown",
      "metadata": {},
      "source": [
        "### 5. Analisis hasil metrik evaluasi"
      ]
    },
    {
      "cell_type": "code",
      "execution_count": 185,
      "metadata": {},
      "outputs": [
        {
          "data": {
            "text/html": [
              "<div>\n",
              "<style scoped>\n",
              "    .dataframe tbody tr th:only-of-type {\n",
              "        vertical-align: middle;\n",
              "    }\n",
              "\n",
              "    .dataframe tbody tr th {\n",
              "        vertical-align: top;\n",
              "    }\n",
              "\n",
              "    .dataframe thead tr th {\n",
              "        text-align: left;\n",
              "    }\n",
              "</style>\n",
              "<table border=\"1\" class=\"dataframe\">\n",
              "  <thead>\n",
              "    <tr>\n",
              "      <th></th>\n",
              "      <th colspan=\"4\" halign=\"left\">Breast Cancer</th>\n",
              "    </tr>\n",
              "    <tr>\n",
              "      <th></th>\n",
              "      <th>Accuracy</th>\n",
              "      <th>Precision</th>\n",
              "      <th>Recall</th>\n",
              "      <th>F1</th>\n",
              "    </tr>\n",
              "  </thead>\n",
              "  <tbody>\n",
              "    <tr>\n",
              "      <th>DecisionTree</th>\n",
              "      <td>0.912281</td>\n",
              "      <td>0.910448</td>\n",
              "      <td>0.938462</td>\n",
              "      <td>0.924242</td>\n",
              "    </tr>\n",
              "    <tr>\n",
              "      <th>ID3</th>\n",
              "      <td>0.921053</td>\n",
              "      <td>0.924242</td>\n",
              "      <td>0.938462</td>\n",
              "      <td>0.931298</td>\n",
              "    </tr>\n",
              "    <tr>\n",
              "      <th>K Means</th>\n",
              "      <td>0.842105</td>\n",
              "      <td>0.783133</td>\n",
              "      <td>1.000000</td>\n",
              "      <td>0.878378</td>\n",
              "    </tr>\n",
              "    <tr>\n",
              "      <th>LogisticRegression</th>\n",
              "      <td>0.973684</td>\n",
              "      <td>0.969697</td>\n",
              "      <td>0.984615</td>\n",
              "      <td>0.977099</td>\n",
              "    </tr>\n",
              "    <tr>\n",
              "      <th>Neural_network</th>\n",
              "      <td>0.570175</td>\n",
              "      <td>0.570175</td>\n",
              "      <td>1.000000</td>\n",
              "      <td>0.726257</td>\n",
              "    </tr>\n",
              "    <tr>\n",
              "      <th>SVM</th>\n",
              "      <td>0.964912</td>\n",
              "      <td>0.955224</td>\n",
              "      <td>0.984615</td>\n",
              "      <td>0.969697</td>\n",
              "    </tr>\n",
              "  </tbody>\n",
              "</table>\n",
              "</div>"
            ],
            "text/plain": [
              "                   Breast Cancer                              \n",
              "                        Accuracy Precision    Recall        F1\n",
              "DecisionTree            0.912281  0.910448  0.938462  0.924242\n",
              "ID3                     0.921053  0.924242  0.938462  0.931298\n",
              "K Means                 0.842105  0.783133  1.000000  0.878378\n",
              "LogisticRegression      0.973684  0.969697  0.984615  0.977099\n",
              "Neural_network          0.570175  0.570175  1.000000  0.726257\n",
              "SVM                     0.964912  0.955224  0.984615  0.969697"
            ]
          },
          "execution_count": 185,
          "metadata": {},
          "output_type": "execute_result"
        }
      ],
      "source": [
        "bc_algos_metrics_score"
      ]
    },
    {
      "cell_type": "code",
      "execution_count": 186,
      "metadata": {},
      "outputs": [
        {
          "data": {
            "text/plain": [
              "<AxesSubplot: >"
            ]
          },
          "execution_count": 186,
          "metadata": {},
          "output_type": "execute_result"
        },
        {
          "data": {
            "image/png": "[encoded data removed]",
            "text/plain": [
              "<Figure size 1600x800 with 1 Axes>"
            ]
          },
          "metadata": {},
          "output_type": "display_data"
        }
      ],
      "source": [
        "import matplotlib.pyplot as plt\n",
        "\n",
        "bc_algos_metrics_score.plot.bar(stacked=False, figsize=(16,8))"
      ]
    },
    {
      "attachments": {},
      "cell_type": "markdown",
      "metadata": {},
      "source": [
        "Pada gragik di atas, kita dapat melihat bahwa metrix evaluasi yang dihasilkan masing-masing algoritma relatif mirip dengan yang lainnya. Dengan nilai metrix evaluasi tertinggi rata-rata ada di logistic regression, yaitu dengan nilai akurasi 0.973684, presisi 0.969697, recall 0.984615, dan F1 0.977099. Dataset yang digunakan untuk training sekitar 455 dari 569 instance yang ada sehingga masing-masing algoritma mendapatkan data yang cukup untuk melakukan training modelnya. Oleh sebab itu, hasil metrix evaluasi yang dihasilkan relatif mirip antara satu algoritma dengan algoritma lainnya.\n",
        "\n",
        "Selain itu, algoritma K-Means rata-rata menghasilkan nilai metrix evaluasi yang lebih rendah dari algoritma lainnya, yaitu dengan nilai akurasi 0.842105, presisi 0.783133, recall 1.000000, dan F1 0.878378. Hal ini bisa terjadi karena sebenarnya algoritma K-Means ini adalah algoritma untuk tujuan clustering sehingga setiap data dikelompokkan berdasarkan kemiripannya bukan pengaruhnya terhadap label targetnya.\n",
        "\n",
        "Berikut adalah keseluruhan hasil untuk setiap algoritma:\n",
        "\n",
        "1. Decision tree classifier: akurasi 0.912281, presisi 0.910448, recall 0.938462, dan F1 0.924242.\n",
        "2. ID3 Estimator: akurasi 0.859649, presisi 0.855072, recall 0.907692, dan F1 0.880597.\n",
        "3. K-Means: akurasi 0.842105, presisi 0.783133, recall 1.000000, dan F1 0.878378.\n",
        "4. Logistic regression: akurasi 0.973684, presisi 0.969697, recall 0.984615, dan F1 0.977099.\n",
        "5. Neural Network: akurasi 0.973684, presisi 0.969697, recall 0.984615, dan F1 0.977099.\n",
        "6. SVM: Dari hasil evaluasi, didapatkan bahwa SVM menghasilkan model dengan akurasi sebesar 98% dengan F1 scorenya 99%."
      ]
    },
    {
      "attachments": {},
      "cell_type": "markdown",
      "metadata": {},
      "source": [
        "### 6. K-fold cross validation  "
      ]
    },
    {
      "cell_type": "code",
      "execution_count": 187,
      "metadata": {},
      "outputs": [
        {
          "name": "stdout",
          "output_type": "stream",
          "text": [
            "{'fit_time': array([0.01018047, 0.00843573, 0.0104382 , 0.0081768 , 0.00953245,\n",
            "       0.00942469, 0.00983834, 0.01056218, 0.00954795, 0.01358652]), 'score_time': array([0.0051446 , 0.00499487, 0.00464869, 0.0051446 , 0.00455093,\n",
            "       0.00464869, 0.00400591, 0.00456619, 0.00454187, 0.00499988]), 'test_r2': array([0.7084399 , 0.60526316, 0.62301587, 0.58088235, 0.48976982,\n",
            "       0.71212121, 0.78132992, 0.83235294, 0.85421995, 0.70053476]), 'test_neg_mean_squared_error': array([-0.07017544, -0.0877193 , -0.0877193 , -0.0877193 , -0.12280702,\n",
            "       -0.07017544, -0.05263158, -0.03508772, -0.03508772, -0.07142857])}\n"
          ]
        }
      ],
      "source": [
        "from sklearn.model_selection import KFold\n",
        "from sklearn.model_selection import cross_validate\n",
        "from numpy import mean\n",
        "\n",
        "#define cross-validation method to use\n",
        "cv = KFold(n_splits=10, random_state=1, shuffle=True)\n",
        "\n",
        "#build multiple linear regression model\n",
        "# model = tree.DecisionTreeClassifier(criterion = \"entropy\", max_features = \"sqrt\", random_state = 40)\n",
        "\n",
        "#use k-fold CV to evaluate model\n",
        "cv_result = cross_validate(dt, x_bc, y_bc, scoring=('r2', 'neg_mean_squared_error'),\n",
        "                         cv=cv, n_jobs=-1)\n",
        "\n",
        "#view mean absolute error\n",
        "# mean(abs(scores))\n",
        "print(cv_result)"
      ]
    },
    {
      "cell_type": "markdown",
      "metadata": {},
      "source": []
    }
  ],
  "metadata": {
    "kernelspec": {
      "display_name": "Python 3",
      "language": "python",
      "name": "python3"
    },
    "language_info": {
      "codemirror_mode": {
        "name": "ipython",
        "version": 3
      },
      "file_extension": ".py",
      "mimetype": "text/x-python",
      "name": "python",
      "nbconvert_exporter": "python",
      "pygments_lexer": "ipython3",
      "version": "3.11.1"
    },
    "vscode": {
      "interpreter": {
        "hash": "f1442b5742f48a99f1d0399df926ab14533a2100e2290e97ace0f3bcc6b13c43"
      }
    }
  },
  "nbformat": 4,
  "nbformat_minor": 4
}
