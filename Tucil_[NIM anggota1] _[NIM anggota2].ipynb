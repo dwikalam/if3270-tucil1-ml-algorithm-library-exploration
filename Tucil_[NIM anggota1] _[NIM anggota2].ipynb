{
  "metadata": {
    "language_info": {
      "codemirror_mode": {
        "name": "python",
        "version": 3
      },
      "file_extension": ".py",
      "mimetype": "text/x-python",
      "name": "python",
      "nbconvert_exporter": "python",
      "pygments_lexer": "ipython3",
      "version": "3.8"
    },
    "kernelspec": {
      "name": "python",
      "display_name": "Python (Pyodide)",
      "language": "python"
    }
  },
  "nbformat_minor": 4,
  "nbformat": 4,
  "cells": [
    {
      "cell_type": "markdown",
      "source": "1. Membaca dataset (load dataset)",
      "metadata": {}
    },
    {
      "cell_type": "code",
      "source": "from sklearn import datasets\nimport pandas as pd\n\nbc = datasets.load_breast_cancer()\ndf_bc = pd.DataFrame(bc.data, columns = bc.feature_names)\ndf_bc[\"target\"] = bc.target\n\nx_bc = df_bc.iloc[:, :-1]\ny_bc = df_bc[\"target\"]",
      "metadata": {
        "trusted": true
      },
      "execution_count": 259,
      "outputs": []
    },
    {
      "cell_type": "code",
      "source": "from sklearn.model_selection import train_test_split\n\nx_train_bc, x_test_bc, y_train_bc, y_test_bc = train_test_split(\n    x_bc, \n    y_bc, \n    test_size = 0.2, \n    random_state = 568\n)",
      "metadata": {
        "trusted": true
      },
      "execution_count": 260,
      "outputs": []
    },
    {
      "cell_type": "markdown",
      "source": "2. Melakukan Pembelajaran\n3. Simpan Model Hasil Pembelajaran\n4. Proses Preditiction",
      "metadata": {}
    },
    {
      "cell_type": "code",
      "source": "from sklearn.metrics import accuracy_score, precision_score, recall_score, f1_score, confusion_matrix\nimport pickle\n\ndef get_fit_model(model, x_train, y_train):\n    return model.fit(x_train, y_train)\n\ndef get_y_pred(fit_model, x_test):\n    y_pred = fit_model.predict(x_test)\n    return y_pred\n\ndef get_all_metrics_score(y_test, y_pred):\n    return [\n        accuracy_score(y_test, y_pred), \n        precision_score(y_test, y_pred, average = \"micro\"),\n        recall_score(y_test, y_pred, average = \"micro\"),\n        f1_score(y_test, y_pred, average = \"micro\")\n    ]\n\ndef get_confusion_matrix(y_test, y_pred):\n    return confusion_matrix(y_test, y_pred)",
      "metadata": {
        "trusted": true
      },
      "execution_count": 261,
      "outputs": []
    },
    {
      "cell_type": "code",
      "source": "def saveModel(model, destPath):\n    # pkl extension\n    pickle.dump(model, open(destPath, 'wb'))\n    \ndef loadModel(srcPath):\n    # pkl extension\n    pickle.load(open(srcPath, 'rb'))",
      "metadata": {
        "trusted": true
      },
      "execution_count": 262,
      "outputs": []
    },
    {
      "cell_type": "markdown",
      "source": "A. DecisionTreeClassifier",
      "metadata": {}
    },
    {
      "cell_type": "code",
      "source": "# DecisionTreeClassifier\n\nfrom sklearn import tree\nfrom sklearn.tree import export_text\n\ndt = tree.DecisionTreeClassifier(criterion = \"entropy\", max_features = \"sqrt\", random_state = 40)\ndt_fit = get_fit_model(dt, x_train_bc, y_train_bc)\nsaveModel(dt_fit, \"./model/dt_fit.pkl\")",
      "metadata": {
        "trusted": true
      },
      "execution_count": 263,
      "outputs": [
        {
          "ename": "<class 'FileNotFoundError'>",
          "evalue": "[Errno 44] No such file or directory: './model/dt_fit.pkl'",
          "traceback": [
            "\u001b[0;31m---------------------------------------------------------------------------\u001b[0m",
            "\u001b[0;31mFileNotFoundError\u001b[0m                         Traceback (most recent call last)",
            "Cell \u001b[0;32mIn[263], line 8\u001b[0m\n\u001b[1;32m      6\u001b[0m dt \u001b[38;5;241m=\u001b[39m tree\u001b[38;5;241m.\u001b[39mDecisionTreeClassifier(criterion \u001b[38;5;241m=\u001b[39m \u001b[38;5;124m\"\u001b[39m\u001b[38;5;124mentropy\u001b[39m\u001b[38;5;124m\"\u001b[39m, max_features \u001b[38;5;241m=\u001b[39m \u001b[38;5;124m\"\u001b[39m\u001b[38;5;124msqrt\u001b[39m\u001b[38;5;124m\"\u001b[39m, random_state \u001b[38;5;241m=\u001b[39m \u001b[38;5;241m40\u001b[39m)\n\u001b[1;32m      7\u001b[0m dt_fit \u001b[38;5;241m=\u001b[39m get_fit_model(dt, x_train_bc, y_train_bc)\n\u001b[0;32m----> 8\u001b[0m \u001b[43msaveModel\u001b[49m\u001b[43m(\u001b[49m\u001b[43mdt_fit\u001b[49m\u001b[43m,\u001b[49m\u001b[43m \u001b[49m\u001b[38;5;124;43m\"\u001b[39;49m\u001b[38;5;124;43m./model/dt_fit.pkl\u001b[39;49m\u001b[38;5;124;43m\"\u001b[39;49m\u001b[43m)\u001b[49m\n",
            "Cell \u001b[0;32mIn[262], line 3\u001b[0m, in \u001b[0;36msaveModel\u001b[0;34m(model, destPath)\u001b[0m\n\u001b[1;32m      1\u001b[0m \u001b[38;5;28;01mdef\u001b[39;00m \u001b[38;5;21msaveModel\u001b[39m(model, destPath):\n\u001b[1;32m      2\u001b[0m     \u001b[38;5;66;03m# pkl extension\u001b[39;00m\n\u001b[0;32m----> 3\u001b[0m     pickle\u001b[38;5;241m.\u001b[39mdump(model, \u001b[38;5;28;43mopen\u001b[39;49m\u001b[43m(\u001b[49m\u001b[43mdestPath\u001b[49m\u001b[43m,\u001b[49m\u001b[43m \u001b[49m\u001b[38;5;124;43m'\u001b[39;49m\u001b[38;5;124;43mwb\u001b[39;49m\u001b[38;5;124;43m'\u001b[39;49m\u001b[43m)\u001b[49m)\n",
            "File \u001b[0;32m/lib/python3.10/site-packages/IPython/core/interactiveshell.py:282\u001b[0m, in \u001b[0;36m_modified_open\u001b[0;34m(file, *args, **kwargs)\u001b[0m\n\u001b[1;32m    275\u001b[0m \u001b[38;5;28;01mif\u001b[39;00m file \u001b[38;5;129;01min\u001b[39;00m {\u001b[38;5;241m0\u001b[39m, \u001b[38;5;241m1\u001b[39m, \u001b[38;5;241m2\u001b[39m}:\n\u001b[1;32m    276\u001b[0m     \u001b[38;5;28;01mraise\u001b[39;00m \u001b[38;5;167;01mValueError\u001b[39;00m(\n\u001b[1;32m    277\u001b[0m         \u001b[38;5;124mf\u001b[39m\u001b[38;5;124m\"\u001b[39m\u001b[38;5;124mIPython won\u001b[39m\u001b[38;5;124m'\u001b[39m\u001b[38;5;124mt let you open fd=\u001b[39m\u001b[38;5;132;01m{\u001b[39;00mfile\u001b[38;5;132;01m}\u001b[39;00m\u001b[38;5;124m by default \u001b[39m\u001b[38;5;124m\"\u001b[39m\n\u001b[1;32m    278\u001b[0m         \u001b[38;5;124m\"\u001b[39m\u001b[38;5;124mas it is likely to crash IPython. If you know what you are doing, \u001b[39m\u001b[38;5;124m\"\u001b[39m\n\u001b[1;32m    279\u001b[0m         \u001b[38;5;124m\"\u001b[39m\u001b[38;5;124myou can use builtins\u001b[39m\u001b[38;5;124m'\u001b[39m\u001b[38;5;124m open.\u001b[39m\u001b[38;5;124m\"\u001b[39m\n\u001b[1;32m    280\u001b[0m     )\n\u001b[0;32m--> 282\u001b[0m \u001b[38;5;28;01mreturn\u001b[39;00m io_open(file, \u001b[38;5;241m*\u001b[39margs, \u001b[38;5;241m*\u001b[39m\u001b[38;5;241m*\u001b[39mkwargs)\n",
            "\u001b[0;31mFileNotFoundError\u001b[0m: [Errno 44] No such file or directory: './model/dt_fit.pkl'"
          ],
          "output_type": "error"
        }
      ]
    },
    {
      "cell_type": "code",
      "source": "dt_fit = loadModel(\"./model/dt_fit.pkl\")\ny_pred = get_y_pred(dt_fit, x_test_bc)\n\ndt_bc_scores = get_all_metrics_score(y_test_bc, y_pred)\ndt_bc_confusion_mat = get_confusion_matrix(y_test_bc, y_pred)\n\nprint(f\"{dtl_bc_scores}\\n\")\nprint(f\"{dt_bc_confusion_mat}\\n\")\nprint(export_text(dt))",
      "metadata": {
        "trusted": true
      },
      "execution_count": 264,
      "outputs": [
        {
          "ename": "<class 'FileNotFoundError'>",
          "evalue": "[Errno 44] No such file or directory: './model/dt_fit.pkl'",
          "traceback": [
            "\u001b[0;31m---------------------------------------------------------------------------\u001b[0m",
            "\u001b[0;31mFileNotFoundError\u001b[0m                         Traceback (most recent call last)",
            "Cell \u001b[0;32mIn[264], line 1\u001b[0m\n\u001b[0;32m----> 1\u001b[0m dt_fit \u001b[38;5;241m=\u001b[39m \u001b[43mloadModel\u001b[49m\u001b[43m(\u001b[49m\u001b[38;5;124;43m\"\u001b[39;49m\u001b[38;5;124;43m./model/dt_fit.pkl\u001b[39;49m\u001b[38;5;124;43m\"\u001b[39;49m\u001b[43m)\u001b[49m\n\u001b[1;32m      2\u001b[0m y_pred \u001b[38;5;241m=\u001b[39m get_y_pred(dt_fit, x_test_bc)\n\u001b[1;32m      4\u001b[0m dt_bc_scores \u001b[38;5;241m=\u001b[39m get_all_metrics_score(y_test_bc, y_pred)\n",
            "Cell \u001b[0;32mIn[262], line 7\u001b[0m, in \u001b[0;36mloadModel\u001b[0;34m(srcPath)\u001b[0m\n\u001b[1;32m      5\u001b[0m \u001b[38;5;28;01mdef\u001b[39;00m \u001b[38;5;21mloadModel\u001b[39m(srcPath):\n\u001b[1;32m      6\u001b[0m     \u001b[38;5;66;03m# pkl extension\u001b[39;00m\n\u001b[0;32m----> 7\u001b[0m     pickle\u001b[38;5;241m.\u001b[39mload(\u001b[38;5;28;43mopen\u001b[39;49m\u001b[43m(\u001b[49m\u001b[43msrcPath\u001b[49m\u001b[43m,\u001b[49m\u001b[43m \u001b[49m\u001b[38;5;124;43m'\u001b[39;49m\u001b[38;5;124;43mrb\u001b[39;49m\u001b[38;5;124;43m'\u001b[39;49m\u001b[43m)\u001b[49m)\n",
            "File \u001b[0;32m/lib/python3.10/site-packages/IPython/core/interactiveshell.py:282\u001b[0m, in \u001b[0;36m_modified_open\u001b[0;34m(file, *args, **kwargs)\u001b[0m\n\u001b[1;32m    275\u001b[0m \u001b[38;5;28;01mif\u001b[39;00m file \u001b[38;5;129;01min\u001b[39;00m {\u001b[38;5;241m0\u001b[39m, \u001b[38;5;241m1\u001b[39m, \u001b[38;5;241m2\u001b[39m}:\n\u001b[1;32m    276\u001b[0m     \u001b[38;5;28;01mraise\u001b[39;00m \u001b[38;5;167;01mValueError\u001b[39;00m(\n\u001b[1;32m    277\u001b[0m         \u001b[38;5;124mf\u001b[39m\u001b[38;5;124m\"\u001b[39m\u001b[38;5;124mIPython won\u001b[39m\u001b[38;5;124m'\u001b[39m\u001b[38;5;124mt let you open fd=\u001b[39m\u001b[38;5;132;01m{\u001b[39;00mfile\u001b[38;5;132;01m}\u001b[39;00m\u001b[38;5;124m by default \u001b[39m\u001b[38;5;124m\"\u001b[39m\n\u001b[1;32m    278\u001b[0m         \u001b[38;5;124m\"\u001b[39m\u001b[38;5;124mas it is likely to crash IPython. If you know what you are doing, \u001b[39m\u001b[38;5;124m\"\u001b[39m\n\u001b[1;32m    279\u001b[0m         \u001b[38;5;124m\"\u001b[39m\u001b[38;5;124myou can use builtins\u001b[39m\u001b[38;5;124m'\u001b[39m\u001b[38;5;124m open.\u001b[39m\u001b[38;5;124m\"\u001b[39m\n\u001b[1;32m    280\u001b[0m     )\n\u001b[0;32m--> 282\u001b[0m \u001b[38;5;28;01mreturn\u001b[39;00m io_open(file, \u001b[38;5;241m*\u001b[39margs, \u001b[38;5;241m*\u001b[39m\u001b[38;5;241m*\u001b[39mkwargs)\n",
            "\u001b[0;31mFileNotFoundError\u001b[0m: [Errno 44] No such file or directory: './model/dt_fit.pkl'"
          ],
          "output_type": "error"
        }
      ]
    },
    {
      "cell_type": "markdown",
      "source": "B. Id3Estimator",
      "metadata": {}
    },
    {
      "cell_type": "code",
      "source": "# Id3Estimator\n\nfrom id3 import Id3Estimator\n\nid3_estimator = Id3Estimator(prune = True, gain_ratio = True)\nid3_estimator_fit = get_fit_model(id3_estimator, x_train_bc, y_train_bc)\nsaveModel(id3_estimator_fit, \"./model/id3_estimator_fit.pkl\")",
      "metadata": {
        "trusted": true
      },
      "execution_count": 265,
      "outputs": [
        {
          "ename": "<class 'ModuleNotFoundError'>",
          "evalue": "No module named 'id3'",
          "traceback": [
            "\u001b[0;31m---------------------------------------------------------------------------\u001b[0m",
            "\u001b[0;31mModuleNotFoundError\u001b[0m                       Traceback (most recent call last)",
            "Cell \u001b[0;32mIn[265], line 3\u001b[0m\n\u001b[1;32m      1\u001b[0m \u001b[38;5;66;03m# Id3Estimator\u001b[39;00m\n\u001b[0;32m----> 3\u001b[0m \u001b[38;5;28;01mfrom\u001b[39;00m \u001b[38;5;21;01mid3\u001b[39;00m \u001b[38;5;28;01mimport\u001b[39;00m Id3Estimator\n\u001b[1;32m      5\u001b[0m id3_estimator \u001b[38;5;241m=\u001b[39m Id3Estimator(prune \u001b[38;5;241m=\u001b[39m \u001b[38;5;28;01mTrue\u001b[39;00m, gain_ratio \u001b[38;5;241m=\u001b[39m \u001b[38;5;28;01mTrue\u001b[39;00m)\n\u001b[1;32m      6\u001b[0m id3_estimator_fit \u001b[38;5;241m=\u001b[39m get_fit_model(id3_estimator, x_train_bc, y_train_bc)\n",
            "\u001b[0;31mModuleNotFoundError\u001b[0m: No module named 'id3'"
          ],
          "output_type": "error"
        }
      ]
    },
    {
      "cell_type": "code",
      "source": "id3_estimator_fit = loadModel(\"./model/id3_estimator_fit.pkl\")\ny_pred = get_y_pred(id3_estimator_fit, x_test_bc)\n\nid3_bc_scores = get_all_metrics_score(y_test_bc, y_pred)\nid3_bc_confusion_mat = get_confusion_matrix(y_test_bc, y_pred)\n\nprint(f\"{id3_bc_scores}\\n\")\nprint(f\"{id3_bc_confusion_mat}\\n\")",
      "metadata": {
        "trusted": true
      },
      "execution_count": 266,
      "outputs": [
        {
          "ename": "<class 'FileNotFoundError'>",
          "evalue": "[Errno 44] No such file or directory: './model/id3_estimator_fit.pkl'",
          "traceback": [
            "\u001b[0;31m---------------------------------------------------------------------------\u001b[0m",
            "\u001b[0;31mFileNotFoundError\u001b[0m                         Traceback (most recent call last)",
            "Cell \u001b[0;32mIn[266], line 1\u001b[0m\n\u001b[0;32m----> 1\u001b[0m id3_estimator_fit \u001b[38;5;241m=\u001b[39m \u001b[43mloadModel\u001b[49m\u001b[43m(\u001b[49m\u001b[38;5;124;43m\"\u001b[39;49m\u001b[38;5;124;43m./model/id3_estimator_fit.pkl\u001b[39;49m\u001b[38;5;124;43m\"\u001b[39;49m\u001b[43m)\u001b[49m\n\u001b[1;32m      2\u001b[0m y_pred \u001b[38;5;241m=\u001b[39m get_y_pred(id3_estimator_fit, x_test_bc)\n\u001b[1;32m      4\u001b[0m id3_bc_scores \u001b[38;5;241m=\u001b[39m get_all_metrics_score(y_test_bc, y_pred)\n",
            "Cell \u001b[0;32mIn[262], line 7\u001b[0m, in \u001b[0;36mloadModel\u001b[0;34m(srcPath)\u001b[0m\n\u001b[1;32m      5\u001b[0m \u001b[38;5;28;01mdef\u001b[39;00m \u001b[38;5;21mloadModel\u001b[39m(srcPath):\n\u001b[1;32m      6\u001b[0m     \u001b[38;5;66;03m# pkl extension\u001b[39;00m\n\u001b[0;32m----> 7\u001b[0m     pickle\u001b[38;5;241m.\u001b[39mload(\u001b[38;5;28;43mopen\u001b[39;49m\u001b[43m(\u001b[49m\u001b[43msrcPath\u001b[49m\u001b[43m,\u001b[49m\u001b[43m \u001b[49m\u001b[38;5;124;43m'\u001b[39;49m\u001b[38;5;124;43mrb\u001b[39;49m\u001b[38;5;124;43m'\u001b[39;49m\u001b[43m)\u001b[49m)\n",
            "File \u001b[0;32m/lib/python3.10/site-packages/IPython/core/interactiveshell.py:282\u001b[0m, in \u001b[0;36m_modified_open\u001b[0;34m(file, *args, **kwargs)\u001b[0m\n\u001b[1;32m    275\u001b[0m \u001b[38;5;28;01mif\u001b[39;00m file \u001b[38;5;129;01min\u001b[39;00m {\u001b[38;5;241m0\u001b[39m, \u001b[38;5;241m1\u001b[39m, \u001b[38;5;241m2\u001b[39m}:\n\u001b[1;32m    276\u001b[0m     \u001b[38;5;28;01mraise\u001b[39;00m \u001b[38;5;167;01mValueError\u001b[39;00m(\n\u001b[1;32m    277\u001b[0m         \u001b[38;5;124mf\u001b[39m\u001b[38;5;124m\"\u001b[39m\u001b[38;5;124mIPython won\u001b[39m\u001b[38;5;124m'\u001b[39m\u001b[38;5;124mt let you open fd=\u001b[39m\u001b[38;5;132;01m{\u001b[39;00mfile\u001b[38;5;132;01m}\u001b[39;00m\u001b[38;5;124m by default \u001b[39m\u001b[38;5;124m\"\u001b[39m\n\u001b[1;32m    278\u001b[0m         \u001b[38;5;124m\"\u001b[39m\u001b[38;5;124mas it is likely to crash IPython. If you know what you are doing, \u001b[39m\u001b[38;5;124m\"\u001b[39m\n\u001b[1;32m    279\u001b[0m         \u001b[38;5;124m\"\u001b[39m\u001b[38;5;124myou can use builtins\u001b[39m\u001b[38;5;124m'\u001b[39m\u001b[38;5;124m open.\u001b[39m\u001b[38;5;124m\"\u001b[39m\n\u001b[1;32m    280\u001b[0m     )\n\u001b[0;32m--> 282\u001b[0m \u001b[38;5;28;01mreturn\u001b[39;00m io_open(file, \u001b[38;5;241m*\u001b[39margs, \u001b[38;5;241m*\u001b[39m\u001b[38;5;241m*\u001b[39mkwargs)\n",
            "\u001b[0;31mFileNotFoundError\u001b[0m: [Errno 44] No such file or directory: './model/id3_estimator_fit.pkl'"
          ],
          "output_type": "error"
        }
      ]
    },
    {
      "cell_type": "markdown",
      "source": "C. K Means",
      "metadata": {}
    },
    {
      "cell_type": "code",
      "source": "# K Means\n\nfrom sklearn.cluster import KMeans\n\nk_means = KMeans(n_init = \"auto\", n_clusters = 2, max_iter = 5000, random_state = 15)\nk_means_fit = get_fit_model(k_means, x_train_bc, y_train_bc)\nsaveModel(k_means_fit, \"./model/k_means_fit.pkl\")",
      "metadata": {
        "trusted": true
      },
      "execution_count": 267,
      "outputs": [
        {
          "ename": "<class 'FileNotFoundError'>",
          "evalue": "[Errno 44] No such file or directory: './model/k_means_fit.pkl'",
          "traceback": [
            "\u001b[0;31m---------------------------------------------------------------------------\u001b[0m",
            "\u001b[0;31mFileNotFoundError\u001b[0m                         Traceback (most recent call last)",
            "Cell \u001b[0;32mIn[267], line 7\u001b[0m\n\u001b[1;32m      5\u001b[0m k_means \u001b[38;5;241m=\u001b[39m KMeans(n_init \u001b[38;5;241m=\u001b[39m \u001b[38;5;124m\"\u001b[39m\u001b[38;5;124mauto\u001b[39m\u001b[38;5;124m\"\u001b[39m, n_clusters \u001b[38;5;241m=\u001b[39m \u001b[38;5;241m2\u001b[39m, max_iter \u001b[38;5;241m=\u001b[39m \u001b[38;5;241m5000\u001b[39m, random_state \u001b[38;5;241m=\u001b[39m \u001b[38;5;241m15\u001b[39m)\n\u001b[1;32m      6\u001b[0m k_means_fit \u001b[38;5;241m=\u001b[39m get_fit_model(k_means, x_train_bc, y_train_bc)\n\u001b[0;32m----> 7\u001b[0m \u001b[43msaveModel\u001b[49m\u001b[43m(\u001b[49m\u001b[43mk_means_fit\u001b[49m\u001b[43m,\u001b[49m\u001b[43m \u001b[49m\u001b[38;5;124;43m\"\u001b[39;49m\u001b[38;5;124;43m./model/k_means_fit.pkl\u001b[39;49m\u001b[38;5;124;43m\"\u001b[39;49m\u001b[43m)\u001b[49m\n",
            "Cell \u001b[0;32mIn[262], line 3\u001b[0m, in \u001b[0;36msaveModel\u001b[0;34m(model, destPath)\u001b[0m\n\u001b[1;32m      1\u001b[0m \u001b[38;5;28;01mdef\u001b[39;00m \u001b[38;5;21msaveModel\u001b[39m(model, destPath):\n\u001b[1;32m      2\u001b[0m     \u001b[38;5;66;03m# pkl extension\u001b[39;00m\n\u001b[0;32m----> 3\u001b[0m     pickle\u001b[38;5;241m.\u001b[39mdump(model, \u001b[38;5;28;43mopen\u001b[39;49m\u001b[43m(\u001b[49m\u001b[43mdestPath\u001b[49m\u001b[43m,\u001b[49m\u001b[43m \u001b[49m\u001b[38;5;124;43m'\u001b[39;49m\u001b[38;5;124;43mwb\u001b[39;49m\u001b[38;5;124;43m'\u001b[39;49m\u001b[43m)\u001b[49m)\n",
            "File \u001b[0;32m/lib/python3.10/site-packages/IPython/core/interactiveshell.py:282\u001b[0m, in \u001b[0;36m_modified_open\u001b[0;34m(file, *args, **kwargs)\u001b[0m\n\u001b[1;32m    275\u001b[0m \u001b[38;5;28;01mif\u001b[39;00m file \u001b[38;5;129;01min\u001b[39;00m {\u001b[38;5;241m0\u001b[39m, \u001b[38;5;241m1\u001b[39m, \u001b[38;5;241m2\u001b[39m}:\n\u001b[1;32m    276\u001b[0m     \u001b[38;5;28;01mraise\u001b[39;00m \u001b[38;5;167;01mValueError\u001b[39;00m(\n\u001b[1;32m    277\u001b[0m         \u001b[38;5;124mf\u001b[39m\u001b[38;5;124m\"\u001b[39m\u001b[38;5;124mIPython won\u001b[39m\u001b[38;5;124m'\u001b[39m\u001b[38;5;124mt let you open fd=\u001b[39m\u001b[38;5;132;01m{\u001b[39;00mfile\u001b[38;5;132;01m}\u001b[39;00m\u001b[38;5;124m by default \u001b[39m\u001b[38;5;124m\"\u001b[39m\n\u001b[1;32m    278\u001b[0m         \u001b[38;5;124m\"\u001b[39m\u001b[38;5;124mas it is likely to crash IPython. If you know what you are doing, \u001b[39m\u001b[38;5;124m\"\u001b[39m\n\u001b[1;32m    279\u001b[0m         \u001b[38;5;124m\"\u001b[39m\u001b[38;5;124myou can use builtins\u001b[39m\u001b[38;5;124m'\u001b[39m\u001b[38;5;124m open.\u001b[39m\u001b[38;5;124m\"\u001b[39m\n\u001b[1;32m    280\u001b[0m     )\n\u001b[0;32m--> 282\u001b[0m \u001b[38;5;28;01mreturn\u001b[39;00m io_open(file, \u001b[38;5;241m*\u001b[39margs, \u001b[38;5;241m*\u001b[39m\u001b[38;5;241m*\u001b[39mkwargs)\n",
            "\u001b[0;31mFileNotFoundError\u001b[0m: [Errno 44] No such file or directory: './model/k_means_fit.pkl'"
          ],
          "output_type": "error"
        }
      ]
    },
    {
      "cell_type": "code",
      "source": "k_means_fit = loadModel(\"./model/k_means_fit.pkl\")\ny_pred = get_y_pred(k_means_fit, x_test_bc)\n\nk_means_bc_scores = get_all_metrics_score(y_test_bc, y_pred)\nk_means_bc_confusion_mat = get_confusion_matrix(y_test_bc, y_pred)\n\nprint(f\"{k_means_bc_scores}\\n\")\nprint(f\"{k_means_bc_confusion_mat}\\n\")",
      "metadata": {
        "trusted": true
      },
      "execution_count": 268,
      "outputs": [
        {
          "ename": "<class 'FileNotFoundError'>",
          "evalue": "[Errno 44] No such file or directory: './model/k_means_fit.pkl'",
          "traceback": [
            "\u001b[0;31m---------------------------------------------------------------------------\u001b[0m",
            "\u001b[0;31mFileNotFoundError\u001b[0m                         Traceback (most recent call last)",
            "Cell \u001b[0;32mIn[268], line 1\u001b[0m\n\u001b[0;32m----> 1\u001b[0m k_means_fit \u001b[38;5;241m=\u001b[39m \u001b[43mloadModel\u001b[49m\u001b[43m(\u001b[49m\u001b[38;5;124;43m\"\u001b[39;49m\u001b[38;5;124;43m./model/k_means_fit.pkl\u001b[39;49m\u001b[38;5;124;43m\"\u001b[39;49m\u001b[43m)\u001b[49m\n\u001b[1;32m      2\u001b[0m y_pred \u001b[38;5;241m=\u001b[39m get_y_pred(k_means_fit, x_test_bc)\n\u001b[1;32m      4\u001b[0m k_means_bc_scores \u001b[38;5;241m=\u001b[39m get_all_metrics_score(y_test_bc, y_pred)\n",
            "Cell \u001b[0;32mIn[262], line 7\u001b[0m, in \u001b[0;36mloadModel\u001b[0;34m(srcPath)\u001b[0m\n\u001b[1;32m      5\u001b[0m \u001b[38;5;28;01mdef\u001b[39;00m \u001b[38;5;21mloadModel\u001b[39m(srcPath):\n\u001b[1;32m      6\u001b[0m     \u001b[38;5;66;03m# pkl extension\u001b[39;00m\n\u001b[0;32m----> 7\u001b[0m     pickle\u001b[38;5;241m.\u001b[39mload(\u001b[38;5;28;43mopen\u001b[39;49m\u001b[43m(\u001b[49m\u001b[43msrcPath\u001b[49m\u001b[43m,\u001b[49m\u001b[43m \u001b[49m\u001b[38;5;124;43m'\u001b[39;49m\u001b[38;5;124;43mrb\u001b[39;49m\u001b[38;5;124;43m'\u001b[39;49m\u001b[43m)\u001b[49m)\n",
            "File \u001b[0;32m/lib/python3.10/site-packages/IPython/core/interactiveshell.py:282\u001b[0m, in \u001b[0;36m_modified_open\u001b[0;34m(file, *args, **kwargs)\u001b[0m\n\u001b[1;32m    275\u001b[0m \u001b[38;5;28;01mif\u001b[39;00m file \u001b[38;5;129;01min\u001b[39;00m {\u001b[38;5;241m0\u001b[39m, \u001b[38;5;241m1\u001b[39m, \u001b[38;5;241m2\u001b[39m}:\n\u001b[1;32m    276\u001b[0m     \u001b[38;5;28;01mraise\u001b[39;00m \u001b[38;5;167;01mValueError\u001b[39;00m(\n\u001b[1;32m    277\u001b[0m         \u001b[38;5;124mf\u001b[39m\u001b[38;5;124m\"\u001b[39m\u001b[38;5;124mIPython won\u001b[39m\u001b[38;5;124m'\u001b[39m\u001b[38;5;124mt let you open fd=\u001b[39m\u001b[38;5;132;01m{\u001b[39;00mfile\u001b[38;5;132;01m}\u001b[39;00m\u001b[38;5;124m by default \u001b[39m\u001b[38;5;124m\"\u001b[39m\n\u001b[1;32m    278\u001b[0m         \u001b[38;5;124m\"\u001b[39m\u001b[38;5;124mas it is likely to crash IPython. If you know what you are doing, \u001b[39m\u001b[38;5;124m\"\u001b[39m\n\u001b[1;32m    279\u001b[0m         \u001b[38;5;124m\"\u001b[39m\u001b[38;5;124myou can use builtins\u001b[39m\u001b[38;5;124m'\u001b[39m\u001b[38;5;124m open.\u001b[39m\u001b[38;5;124m\"\u001b[39m\n\u001b[1;32m    280\u001b[0m     )\n\u001b[0;32m--> 282\u001b[0m \u001b[38;5;28;01mreturn\u001b[39;00m io_open(file, \u001b[38;5;241m*\u001b[39margs, \u001b[38;5;241m*\u001b[39m\u001b[38;5;241m*\u001b[39mkwargs)\n",
            "\u001b[0;31mFileNotFoundError\u001b[0m: [Errno 44] No such file or directory: './model/k_means_fit.pkl'"
          ],
          "output_type": "error"
        }
      ]
    },
    {
      "cell_type": "markdown",
      "source": "D. LogisticRegression",
      "metadata": {}
    },
    {
      "cell_type": "code",
      "source": "# LogisticRegression\n\nfrom sklearn.linear_model import LogisticRegression\n\nlog_reg = LogisticRegression(max_iter = 5000)\nlog_reg_fit = get_fit_model(log_reg, x_train_bc, y_train_bc)\nsaveModel(log_reg_fit, \"./model/log_reg_fit.pkl\")",
      "metadata": {
        "trusted": true
      },
      "execution_count": 269,
      "outputs": [
        {
          "ename": "<class 'FileNotFoundError'>",
          "evalue": "[Errno 44] No such file or directory: './model/log_reg_fit.pkl'",
          "traceback": [
            "\u001b[0;31m---------------------------------------------------------------------------\u001b[0m",
            "\u001b[0;31mFileNotFoundError\u001b[0m                         Traceback (most recent call last)",
            "Cell \u001b[0;32mIn[269], line 7\u001b[0m\n\u001b[1;32m      5\u001b[0m log_reg \u001b[38;5;241m=\u001b[39m LogisticRegression(max_iter \u001b[38;5;241m=\u001b[39m \u001b[38;5;241m5000\u001b[39m)\n\u001b[1;32m      6\u001b[0m log_reg_fit \u001b[38;5;241m=\u001b[39m get_fit_model(log_reg, x_train_bc, y_train_bc)\n\u001b[0;32m----> 7\u001b[0m \u001b[43msaveModel\u001b[49m\u001b[43m(\u001b[49m\u001b[43mlog_reg_fit\u001b[49m\u001b[43m,\u001b[49m\u001b[43m \u001b[49m\u001b[38;5;124;43m\"\u001b[39;49m\u001b[38;5;124;43m./model/log_reg_fit.pkl\u001b[39;49m\u001b[38;5;124;43m\"\u001b[39;49m\u001b[43m)\u001b[49m\n",
            "Cell \u001b[0;32mIn[262], line 3\u001b[0m, in \u001b[0;36msaveModel\u001b[0;34m(model, destPath)\u001b[0m\n\u001b[1;32m      1\u001b[0m \u001b[38;5;28;01mdef\u001b[39;00m \u001b[38;5;21msaveModel\u001b[39m(model, destPath):\n\u001b[1;32m      2\u001b[0m     \u001b[38;5;66;03m# pkl extension\u001b[39;00m\n\u001b[0;32m----> 3\u001b[0m     pickle\u001b[38;5;241m.\u001b[39mdump(model, \u001b[38;5;28;43mopen\u001b[39;49m\u001b[43m(\u001b[49m\u001b[43mdestPath\u001b[49m\u001b[43m,\u001b[49m\u001b[43m \u001b[49m\u001b[38;5;124;43m'\u001b[39;49m\u001b[38;5;124;43mwb\u001b[39;49m\u001b[38;5;124;43m'\u001b[39;49m\u001b[43m)\u001b[49m)\n",
            "File \u001b[0;32m/lib/python3.10/site-packages/IPython/core/interactiveshell.py:282\u001b[0m, in \u001b[0;36m_modified_open\u001b[0;34m(file, *args, **kwargs)\u001b[0m\n\u001b[1;32m    275\u001b[0m \u001b[38;5;28;01mif\u001b[39;00m file \u001b[38;5;129;01min\u001b[39;00m {\u001b[38;5;241m0\u001b[39m, \u001b[38;5;241m1\u001b[39m, \u001b[38;5;241m2\u001b[39m}:\n\u001b[1;32m    276\u001b[0m     \u001b[38;5;28;01mraise\u001b[39;00m \u001b[38;5;167;01mValueError\u001b[39;00m(\n\u001b[1;32m    277\u001b[0m         \u001b[38;5;124mf\u001b[39m\u001b[38;5;124m\"\u001b[39m\u001b[38;5;124mIPython won\u001b[39m\u001b[38;5;124m'\u001b[39m\u001b[38;5;124mt let you open fd=\u001b[39m\u001b[38;5;132;01m{\u001b[39;00mfile\u001b[38;5;132;01m}\u001b[39;00m\u001b[38;5;124m by default \u001b[39m\u001b[38;5;124m\"\u001b[39m\n\u001b[1;32m    278\u001b[0m         \u001b[38;5;124m\"\u001b[39m\u001b[38;5;124mas it is likely to crash IPython. If you know what you are doing, \u001b[39m\u001b[38;5;124m\"\u001b[39m\n\u001b[1;32m    279\u001b[0m         \u001b[38;5;124m\"\u001b[39m\u001b[38;5;124myou can use builtins\u001b[39m\u001b[38;5;124m'\u001b[39m\u001b[38;5;124m open.\u001b[39m\u001b[38;5;124m\"\u001b[39m\n\u001b[1;32m    280\u001b[0m     )\n\u001b[0;32m--> 282\u001b[0m \u001b[38;5;28;01mreturn\u001b[39;00m io_open(file, \u001b[38;5;241m*\u001b[39margs, \u001b[38;5;241m*\u001b[39m\u001b[38;5;241m*\u001b[39mkwargs)\n",
            "\u001b[0;31mFileNotFoundError\u001b[0m: [Errno 44] No such file or directory: './model/log_reg_fit.pkl'"
          ],
          "output_type": "error"
        }
      ]
    },
    {
      "cell_type": "code",
      "source": "log_reg_fit = loadModel(\"./model/log_reg_fit.pkl\")\ny_pred = get_y_pred(log_reg_fit, x_test_bc)\n\nlog_reg_bc_scores = get_all_metrics_score(y_test_bc, y_pred)\nlog_reg_bc_confusion_mat = get_confusion_matrix(y_test_bc, y_pred)\n\nprint(f\"{log_reg_bc_scores}\\n\")\nprint(f\"{log_reg_bc_confusion_mat}\\n\")",
      "metadata": {
        "trusted": true
      },
      "execution_count": 270,
      "outputs": [
        {
          "ename": "<class 'FileNotFoundError'>",
          "evalue": "[Errno 44] No such file or directory: './model/log_reg_fit.pkl'",
          "traceback": [
            "\u001b[0;31m---------------------------------------------------------------------------\u001b[0m",
            "\u001b[0;31mFileNotFoundError\u001b[0m                         Traceback (most recent call last)",
            "Cell \u001b[0;32mIn[270], line 1\u001b[0m\n\u001b[0;32m----> 1\u001b[0m log_reg_fit \u001b[38;5;241m=\u001b[39m \u001b[43mloadModel\u001b[49m\u001b[43m(\u001b[49m\u001b[38;5;124;43m\"\u001b[39;49m\u001b[38;5;124;43m./model/log_reg_fit.pkl\u001b[39;49m\u001b[38;5;124;43m\"\u001b[39;49m\u001b[43m)\u001b[49m\n\u001b[1;32m      2\u001b[0m y_pred \u001b[38;5;241m=\u001b[39m get_y_pred(log_reg_fit, x_test_bc)\n\u001b[1;32m      4\u001b[0m log_reg_bc_scores \u001b[38;5;241m=\u001b[39m get_all_metrics_score(y_test_bc, y_pred)\n",
            "Cell \u001b[0;32mIn[262], line 7\u001b[0m, in \u001b[0;36mloadModel\u001b[0;34m(srcPath)\u001b[0m\n\u001b[1;32m      5\u001b[0m \u001b[38;5;28;01mdef\u001b[39;00m \u001b[38;5;21mloadModel\u001b[39m(srcPath):\n\u001b[1;32m      6\u001b[0m     \u001b[38;5;66;03m# pkl extension\u001b[39;00m\n\u001b[0;32m----> 7\u001b[0m     pickle\u001b[38;5;241m.\u001b[39mload(\u001b[38;5;28;43mopen\u001b[39;49m\u001b[43m(\u001b[49m\u001b[43msrcPath\u001b[49m\u001b[43m,\u001b[49m\u001b[43m \u001b[49m\u001b[38;5;124;43m'\u001b[39;49m\u001b[38;5;124;43mrb\u001b[39;49m\u001b[38;5;124;43m'\u001b[39;49m\u001b[43m)\u001b[49m)\n",
            "File \u001b[0;32m/lib/python3.10/site-packages/IPython/core/interactiveshell.py:282\u001b[0m, in \u001b[0;36m_modified_open\u001b[0;34m(file, *args, **kwargs)\u001b[0m\n\u001b[1;32m    275\u001b[0m \u001b[38;5;28;01mif\u001b[39;00m file \u001b[38;5;129;01min\u001b[39;00m {\u001b[38;5;241m0\u001b[39m, \u001b[38;5;241m1\u001b[39m, \u001b[38;5;241m2\u001b[39m}:\n\u001b[1;32m    276\u001b[0m     \u001b[38;5;28;01mraise\u001b[39;00m \u001b[38;5;167;01mValueError\u001b[39;00m(\n\u001b[1;32m    277\u001b[0m         \u001b[38;5;124mf\u001b[39m\u001b[38;5;124m\"\u001b[39m\u001b[38;5;124mIPython won\u001b[39m\u001b[38;5;124m'\u001b[39m\u001b[38;5;124mt let you open fd=\u001b[39m\u001b[38;5;132;01m{\u001b[39;00mfile\u001b[38;5;132;01m}\u001b[39;00m\u001b[38;5;124m by default \u001b[39m\u001b[38;5;124m\"\u001b[39m\n\u001b[1;32m    278\u001b[0m         \u001b[38;5;124m\"\u001b[39m\u001b[38;5;124mas it is likely to crash IPython. If you know what you are doing, \u001b[39m\u001b[38;5;124m\"\u001b[39m\n\u001b[1;32m    279\u001b[0m         \u001b[38;5;124m\"\u001b[39m\u001b[38;5;124myou can use builtins\u001b[39m\u001b[38;5;124m'\u001b[39m\u001b[38;5;124m open.\u001b[39m\u001b[38;5;124m\"\u001b[39m\n\u001b[1;32m    280\u001b[0m     )\n\u001b[0;32m--> 282\u001b[0m \u001b[38;5;28;01mreturn\u001b[39;00m io_open(file, \u001b[38;5;241m*\u001b[39margs, \u001b[38;5;241m*\u001b[39m\u001b[38;5;241m*\u001b[39mkwargs)\n",
            "\u001b[0;31mFileNotFoundError\u001b[0m: [Errno 44] No such file or directory: './model/log_reg_fit.pkl'"
          ],
          "output_type": "error"
        }
      ]
    },
    {
      "cell_type": "markdown",
      "source": "E. Neural_network",
      "metadata": {}
    },
    {
      "cell_type": "code",
      "source": "# Neural_network\n\nfrom sklearn.neural_network import MLPClassifier\n\nmlp = MLPClassifier(max_iter = 5000, solver = \"lbfgs\")\nmlp_fit = get_fit_model(mlp, x_train_bc, y_train_bc)\nsaveModel(mlp_fit, \"./model/mlp_fit.pkl\")",
      "metadata": {
        "trusted": true
      },
      "execution_count": 271,
      "outputs": [
        {
          "ename": "<class 'FileNotFoundError'>",
          "evalue": "[Errno 44] No such file or directory: './model/mlp_fit.pkl'",
          "traceback": [
            "\u001b[0;31m---------------------------------------------------------------------------\u001b[0m",
            "\u001b[0;31mFileNotFoundError\u001b[0m                         Traceback (most recent call last)",
            "Cell \u001b[0;32mIn[271], line 7\u001b[0m\n\u001b[1;32m      5\u001b[0m mlp \u001b[38;5;241m=\u001b[39m MLPClassifier(max_iter \u001b[38;5;241m=\u001b[39m \u001b[38;5;241m5000\u001b[39m, solver \u001b[38;5;241m=\u001b[39m \u001b[38;5;124m\"\u001b[39m\u001b[38;5;124mlbfgs\u001b[39m\u001b[38;5;124m\"\u001b[39m)\n\u001b[1;32m      6\u001b[0m mlp_fit \u001b[38;5;241m=\u001b[39m get_fit_model(mlp, x_train_bc, y_train_bc)\n\u001b[0;32m----> 7\u001b[0m \u001b[43msaveModel\u001b[49m\u001b[43m(\u001b[49m\u001b[43mmlp_fit\u001b[49m\u001b[43m,\u001b[49m\u001b[43m \u001b[49m\u001b[38;5;124;43m\"\u001b[39;49m\u001b[38;5;124;43m./model/mlp_fit.pkl\u001b[39;49m\u001b[38;5;124;43m\"\u001b[39;49m\u001b[43m)\u001b[49m\n",
            "Cell \u001b[0;32mIn[262], line 3\u001b[0m, in \u001b[0;36msaveModel\u001b[0;34m(model, destPath)\u001b[0m\n\u001b[1;32m      1\u001b[0m \u001b[38;5;28;01mdef\u001b[39;00m \u001b[38;5;21msaveModel\u001b[39m(model, destPath):\n\u001b[1;32m      2\u001b[0m     \u001b[38;5;66;03m# pkl extension\u001b[39;00m\n\u001b[0;32m----> 3\u001b[0m     pickle\u001b[38;5;241m.\u001b[39mdump(model, \u001b[38;5;28;43mopen\u001b[39;49m\u001b[43m(\u001b[49m\u001b[43mdestPath\u001b[49m\u001b[43m,\u001b[49m\u001b[43m \u001b[49m\u001b[38;5;124;43m'\u001b[39;49m\u001b[38;5;124;43mwb\u001b[39;49m\u001b[38;5;124;43m'\u001b[39;49m\u001b[43m)\u001b[49m)\n",
            "File \u001b[0;32m/lib/python3.10/site-packages/IPython/core/interactiveshell.py:282\u001b[0m, in \u001b[0;36m_modified_open\u001b[0;34m(file, *args, **kwargs)\u001b[0m\n\u001b[1;32m    275\u001b[0m \u001b[38;5;28;01mif\u001b[39;00m file \u001b[38;5;129;01min\u001b[39;00m {\u001b[38;5;241m0\u001b[39m, \u001b[38;5;241m1\u001b[39m, \u001b[38;5;241m2\u001b[39m}:\n\u001b[1;32m    276\u001b[0m     \u001b[38;5;28;01mraise\u001b[39;00m \u001b[38;5;167;01mValueError\u001b[39;00m(\n\u001b[1;32m    277\u001b[0m         \u001b[38;5;124mf\u001b[39m\u001b[38;5;124m\"\u001b[39m\u001b[38;5;124mIPython won\u001b[39m\u001b[38;5;124m'\u001b[39m\u001b[38;5;124mt let you open fd=\u001b[39m\u001b[38;5;132;01m{\u001b[39;00mfile\u001b[38;5;132;01m}\u001b[39;00m\u001b[38;5;124m by default \u001b[39m\u001b[38;5;124m\"\u001b[39m\n\u001b[1;32m    278\u001b[0m         \u001b[38;5;124m\"\u001b[39m\u001b[38;5;124mas it is likely to crash IPython. If you know what you are doing, \u001b[39m\u001b[38;5;124m\"\u001b[39m\n\u001b[1;32m    279\u001b[0m         \u001b[38;5;124m\"\u001b[39m\u001b[38;5;124myou can use builtins\u001b[39m\u001b[38;5;124m'\u001b[39m\u001b[38;5;124m open.\u001b[39m\u001b[38;5;124m\"\u001b[39m\n\u001b[1;32m    280\u001b[0m     )\n\u001b[0;32m--> 282\u001b[0m \u001b[38;5;28;01mreturn\u001b[39;00m io_open(file, \u001b[38;5;241m*\u001b[39margs, \u001b[38;5;241m*\u001b[39m\u001b[38;5;241m*\u001b[39mkwargs)\n",
            "\u001b[0;31mFileNotFoundError\u001b[0m: [Errno 44] No such file or directory: './model/mlp_fit.pkl'"
          ],
          "output_type": "error"
        }
      ]
    },
    {
      "cell_type": "code",
      "source": "mlp_fit = loadModel(\"./model/mlp_fit.pkl\")\ny_pred = get_y_pred(mlp_fit, x_test_bc)\n\nmlp_bc_scores = get_all_metrics_score(y_test_bc, y_pred)\nmlp_bc_confusion_mat = get_confusion_matrix(y_test_bc, y_pred)\n\nprint(f\"{mlp_bc_scores}\\n\")\nprint(f\"{mlp_bc_confusion_mat}\\n\")",
      "metadata": {
        "trusted": true
      },
      "execution_count": 272,
      "outputs": [
        {
          "ename": "<class 'FileNotFoundError'>",
          "evalue": "[Errno 44] No such file or directory: './model/mlp_fit.pkl'",
          "traceback": [
            "\u001b[0;31m---------------------------------------------------------------------------\u001b[0m",
            "\u001b[0;31mFileNotFoundError\u001b[0m                         Traceback (most recent call last)",
            "Cell \u001b[0;32mIn[272], line 1\u001b[0m\n\u001b[0;32m----> 1\u001b[0m mlp_fit \u001b[38;5;241m=\u001b[39m \u001b[43mloadModel\u001b[49m\u001b[43m(\u001b[49m\u001b[38;5;124;43m\"\u001b[39;49m\u001b[38;5;124;43m./model/mlp_fit.pkl\u001b[39;49m\u001b[38;5;124;43m\"\u001b[39;49m\u001b[43m)\u001b[49m\n\u001b[1;32m      2\u001b[0m y_pred \u001b[38;5;241m=\u001b[39m get_y_pred(mlp_fit, x_test_bc)\n\u001b[1;32m      4\u001b[0m mlp_bc_scores \u001b[38;5;241m=\u001b[39m get_all_metrics_score(y_test_bc, y_pred)\n",
            "Cell \u001b[0;32mIn[262], line 7\u001b[0m, in \u001b[0;36mloadModel\u001b[0;34m(srcPath)\u001b[0m\n\u001b[1;32m      5\u001b[0m \u001b[38;5;28;01mdef\u001b[39;00m \u001b[38;5;21mloadModel\u001b[39m(srcPath):\n\u001b[1;32m      6\u001b[0m     \u001b[38;5;66;03m# pkl extension\u001b[39;00m\n\u001b[0;32m----> 7\u001b[0m     pickle\u001b[38;5;241m.\u001b[39mload(\u001b[38;5;28;43mopen\u001b[39;49m\u001b[43m(\u001b[49m\u001b[43msrcPath\u001b[49m\u001b[43m,\u001b[49m\u001b[43m \u001b[49m\u001b[38;5;124;43m'\u001b[39;49m\u001b[38;5;124;43mrb\u001b[39;49m\u001b[38;5;124;43m'\u001b[39;49m\u001b[43m)\u001b[49m)\n",
            "File \u001b[0;32m/lib/python3.10/site-packages/IPython/core/interactiveshell.py:282\u001b[0m, in \u001b[0;36m_modified_open\u001b[0;34m(file, *args, **kwargs)\u001b[0m\n\u001b[1;32m    275\u001b[0m \u001b[38;5;28;01mif\u001b[39;00m file \u001b[38;5;129;01min\u001b[39;00m {\u001b[38;5;241m0\u001b[39m, \u001b[38;5;241m1\u001b[39m, \u001b[38;5;241m2\u001b[39m}:\n\u001b[1;32m    276\u001b[0m     \u001b[38;5;28;01mraise\u001b[39;00m \u001b[38;5;167;01mValueError\u001b[39;00m(\n\u001b[1;32m    277\u001b[0m         \u001b[38;5;124mf\u001b[39m\u001b[38;5;124m\"\u001b[39m\u001b[38;5;124mIPython won\u001b[39m\u001b[38;5;124m'\u001b[39m\u001b[38;5;124mt let you open fd=\u001b[39m\u001b[38;5;132;01m{\u001b[39;00mfile\u001b[38;5;132;01m}\u001b[39;00m\u001b[38;5;124m by default \u001b[39m\u001b[38;5;124m\"\u001b[39m\n\u001b[1;32m    278\u001b[0m         \u001b[38;5;124m\"\u001b[39m\u001b[38;5;124mas it is likely to crash IPython. If you know what you are doing, \u001b[39m\u001b[38;5;124m\"\u001b[39m\n\u001b[1;32m    279\u001b[0m         \u001b[38;5;124m\"\u001b[39m\u001b[38;5;124myou can use builtins\u001b[39m\u001b[38;5;124m'\u001b[39m\u001b[38;5;124m open.\u001b[39m\u001b[38;5;124m\"\u001b[39m\n\u001b[1;32m    280\u001b[0m     )\n\u001b[0;32m--> 282\u001b[0m \u001b[38;5;28;01mreturn\u001b[39;00m io_open(file, \u001b[38;5;241m*\u001b[39margs, \u001b[38;5;241m*\u001b[39m\u001b[38;5;241m*\u001b[39mkwargs)\n",
            "\u001b[0;31mFileNotFoundError\u001b[0m: [Errno 44] No such file or directory: './model/mlp_fit.pkl'"
          ],
          "output_type": "error"
        }
      ]
    },
    {
      "cell_type": "markdown",
      "source": "F. SVM",
      "metadata": {}
    },
    {
      "cell_type": "code",
      "source": "# SVM\n\nfrom sklearn.svm import SVC\n\nsvc = SVC(kernel = 'linear')\nsvc_fit = get_fit_model(svc, x_train_bc, y_train_bc)\nsaveModel(svc_fit, \"./model/svc_fit.pkl\")",
      "metadata": {
        "trusted": true
      },
      "execution_count": 273,
      "outputs": [
        {
          "ename": "<class 'FileNotFoundError'>",
          "evalue": "[Errno 44] No such file or directory: './model/svc_fit.pkl'",
          "traceback": [
            "\u001b[0;31m---------------------------------------------------------------------------\u001b[0m",
            "\u001b[0;31mFileNotFoundError\u001b[0m                         Traceback (most recent call last)",
            "Cell \u001b[0;32mIn[273], line 7\u001b[0m\n\u001b[1;32m      5\u001b[0m svc \u001b[38;5;241m=\u001b[39m SVC(kernel \u001b[38;5;241m=\u001b[39m \u001b[38;5;124m'\u001b[39m\u001b[38;5;124mlinear\u001b[39m\u001b[38;5;124m'\u001b[39m)\n\u001b[1;32m      6\u001b[0m svc_fit \u001b[38;5;241m=\u001b[39m get_fit_model(svc, x_train_bc, y_train_bc)\n\u001b[0;32m----> 7\u001b[0m \u001b[43msaveModel\u001b[49m\u001b[43m(\u001b[49m\u001b[43msvc_fit\u001b[49m\u001b[43m,\u001b[49m\u001b[43m \u001b[49m\u001b[38;5;124;43m\"\u001b[39;49m\u001b[38;5;124;43m./model/svc_fit.pkl\u001b[39;49m\u001b[38;5;124;43m\"\u001b[39;49m\u001b[43m)\u001b[49m\n",
            "Cell \u001b[0;32mIn[262], line 3\u001b[0m, in \u001b[0;36msaveModel\u001b[0;34m(model, destPath)\u001b[0m\n\u001b[1;32m      1\u001b[0m \u001b[38;5;28;01mdef\u001b[39;00m \u001b[38;5;21msaveModel\u001b[39m(model, destPath):\n\u001b[1;32m      2\u001b[0m     \u001b[38;5;66;03m# pkl extension\u001b[39;00m\n\u001b[0;32m----> 3\u001b[0m     pickle\u001b[38;5;241m.\u001b[39mdump(model, \u001b[38;5;28;43mopen\u001b[39;49m\u001b[43m(\u001b[49m\u001b[43mdestPath\u001b[49m\u001b[43m,\u001b[49m\u001b[43m \u001b[49m\u001b[38;5;124;43m'\u001b[39;49m\u001b[38;5;124;43mwb\u001b[39;49m\u001b[38;5;124;43m'\u001b[39;49m\u001b[43m)\u001b[49m)\n",
            "File \u001b[0;32m/lib/python3.10/site-packages/IPython/core/interactiveshell.py:282\u001b[0m, in \u001b[0;36m_modified_open\u001b[0;34m(file, *args, **kwargs)\u001b[0m\n\u001b[1;32m    275\u001b[0m \u001b[38;5;28;01mif\u001b[39;00m file \u001b[38;5;129;01min\u001b[39;00m {\u001b[38;5;241m0\u001b[39m, \u001b[38;5;241m1\u001b[39m, \u001b[38;5;241m2\u001b[39m}:\n\u001b[1;32m    276\u001b[0m     \u001b[38;5;28;01mraise\u001b[39;00m \u001b[38;5;167;01mValueError\u001b[39;00m(\n\u001b[1;32m    277\u001b[0m         \u001b[38;5;124mf\u001b[39m\u001b[38;5;124m\"\u001b[39m\u001b[38;5;124mIPython won\u001b[39m\u001b[38;5;124m'\u001b[39m\u001b[38;5;124mt let you open fd=\u001b[39m\u001b[38;5;132;01m{\u001b[39;00mfile\u001b[38;5;132;01m}\u001b[39;00m\u001b[38;5;124m by default \u001b[39m\u001b[38;5;124m\"\u001b[39m\n\u001b[1;32m    278\u001b[0m         \u001b[38;5;124m\"\u001b[39m\u001b[38;5;124mas it is likely to crash IPython. If you know what you are doing, \u001b[39m\u001b[38;5;124m\"\u001b[39m\n\u001b[1;32m    279\u001b[0m         \u001b[38;5;124m\"\u001b[39m\u001b[38;5;124myou can use builtins\u001b[39m\u001b[38;5;124m'\u001b[39m\u001b[38;5;124m open.\u001b[39m\u001b[38;5;124m\"\u001b[39m\n\u001b[1;32m    280\u001b[0m     )\n\u001b[0;32m--> 282\u001b[0m \u001b[38;5;28;01mreturn\u001b[39;00m io_open(file, \u001b[38;5;241m*\u001b[39margs, \u001b[38;5;241m*\u001b[39m\u001b[38;5;241m*\u001b[39mkwargs)\n",
            "\u001b[0;31mFileNotFoundError\u001b[0m: [Errno 44] No such file or directory: './model/svc_fit.pkl'"
          ],
          "output_type": "error"
        }
      ]
    },
    {
      "cell_type": "code",
      "source": "svc_fit = loadModel(\"./model/svc_fit.pkl\")\ny_pred = get_y_pred(svc_fit, x_test_bc)\n\nsvc_bc_scores = get_all_metrics_score(y_test_bc, y_pred)\nsvc_bc_confusion_mat = get_confusion_matrix(y_test_bc, y_pred)\n\nprint(f\"{svc_bc_scores}\\n\")\nprint(f\"{svc_bc_confusion_mat}\\n\")",
      "metadata": {
        "trusted": true
      },
      "execution_count": 274,
      "outputs": [
        {
          "ename": "<class 'FileNotFoundError'>",
          "evalue": "[Errno 44] No such file or directory: './model/svc_fit.pkl'",
          "traceback": [
            "\u001b[0;31m---------------------------------------------------------------------------\u001b[0m",
            "\u001b[0;31mFileNotFoundError\u001b[0m                         Traceback (most recent call last)",
            "Cell \u001b[0;32mIn[274], line 1\u001b[0m\n\u001b[0;32m----> 1\u001b[0m svc_fit \u001b[38;5;241m=\u001b[39m \u001b[43mloadModel\u001b[49m\u001b[43m(\u001b[49m\u001b[38;5;124;43m\"\u001b[39;49m\u001b[38;5;124;43m./model/svc_fit.pkl\u001b[39;49m\u001b[38;5;124;43m\"\u001b[39;49m\u001b[43m)\u001b[49m\n\u001b[1;32m      2\u001b[0m y_pred \u001b[38;5;241m=\u001b[39m get_y_pred(svc_fit, x_test_bc)\n\u001b[1;32m      4\u001b[0m svc_bc_scores \u001b[38;5;241m=\u001b[39m get_all_metrics_score(y_test_bc, y_pred)\n",
            "Cell \u001b[0;32mIn[262], line 7\u001b[0m, in \u001b[0;36mloadModel\u001b[0;34m(srcPath)\u001b[0m\n\u001b[1;32m      5\u001b[0m \u001b[38;5;28;01mdef\u001b[39;00m \u001b[38;5;21mloadModel\u001b[39m(srcPath):\n\u001b[1;32m      6\u001b[0m     \u001b[38;5;66;03m# pkl extension\u001b[39;00m\n\u001b[0;32m----> 7\u001b[0m     pickle\u001b[38;5;241m.\u001b[39mload(\u001b[38;5;28;43mopen\u001b[39;49m\u001b[43m(\u001b[49m\u001b[43msrcPath\u001b[49m\u001b[43m,\u001b[49m\u001b[43m \u001b[49m\u001b[38;5;124;43m'\u001b[39;49m\u001b[38;5;124;43mrb\u001b[39;49m\u001b[38;5;124;43m'\u001b[39;49m\u001b[43m)\u001b[49m)\n",
            "File \u001b[0;32m/lib/python3.10/site-packages/IPython/core/interactiveshell.py:282\u001b[0m, in \u001b[0;36m_modified_open\u001b[0;34m(file, *args, **kwargs)\u001b[0m\n\u001b[1;32m    275\u001b[0m \u001b[38;5;28;01mif\u001b[39;00m file \u001b[38;5;129;01min\u001b[39;00m {\u001b[38;5;241m0\u001b[39m, \u001b[38;5;241m1\u001b[39m, \u001b[38;5;241m2\u001b[39m}:\n\u001b[1;32m    276\u001b[0m     \u001b[38;5;28;01mraise\u001b[39;00m \u001b[38;5;167;01mValueError\u001b[39;00m(\n\u001b[1;32m    277\u001b[0m         \u001b[38;5;124mf\u001b[39m\u001b[38;5;124m\"\u001b[39m\u001b[38;5;124mIPython won\u001b[39m\u001b[38;5;124m'\u001b[39m\u001b[38;5;124mt let you open fd=\u001b[39m\u001b[38;5;132;01m{\u001b[39;00mfile\u001b[38;5;132;01m}\u001b[39;00m\u001b[38;5;124m by default \u001b[39m\u001b[38;5;124m\"\u001b[39m\n\u001b[1;32m    278\u001b[0m         \u001b[38;5;124m\"\u001b[39m\u001b[38;5;124mas it is likely to crash IPython. If you know what you are doing, \u001b[39m\u001b[38;5;124m\"\u001b[39m\n\u001b[1;32m    279\u001b[0m         \u001b[38;5;124m\"\u001b[39m\u001b[38;5;124myou can use builtins\u001b[39m\u001b[38;5;124m'\u001b[39m\u001b[38;5;124m open.\u001b[39m\u001b[38;5;124m\"\u001b[39m\n\u001b[1;32m    280\u001b[0m     )\n\u001b[0;32m--> 282\u001b[0m \u001b[38;5;28;01mreturn\u001b[39;00m io_open(file, \u001b[38;5;241m*\u001b[39margs, \u001b[38;5;241m*\u001b[39m\u001b[38;5;241m*\u001b[39mkwargs)\n",
            "\u001b[0;31mFileNotFoundError\u001b[0m: [Errno 44] No such file or directory: './model/svc_fit.pkl'"
          ],
          "output_type": "error"
        }
      ]
    },
    {
      "cell_type": "code",
      "source": "index = [\n    \"DecisionTree\",\n    \"K Means\",\n    \"LogisticRegression\",\n    \"Neural_network\",\n    \"SVM\"\n]\ncolumns = [\n    \"Accuracy\", \n    \"Precision\", \n    \"Recall\", \n    \"F1\"\n]\n\nbc_algos_scores = [\n    dtl_bc_scores,\n    k_means_bc_scores,\n    log_reg_bc_scores,\n    mlp_bc_scores,\n    svc_bc_scores\n]\n\nbc_algos_metrics_score = pd.DataFrame(\n    data = bc_algos_scores, \n    index = index, \n    columns = [[\"Breast Cancer\" for i in range(len(columns))], columns])",
      "metadata": {
        "trusted": true
      },
      "execution_count": 275,
      "outputs": []
    },
    {
      "cell_type": "code",
      "source": "",
      "metadata": {
        "trusted": true
      },
      "execution_count": null,
      "outputs": []
    },
    {
      "cell_type": "code",
      "source": "print(f\">>> TRAINING DATA <<<\")\n\nprint(f\"\\n> SAMPLE\\n\")\nprint(x_train_bc)\n\nprint(f\"\\n> TARGET\\n\")\nprint(y_train_bc)",
      "metadata": {
        "trusted": true
      },
      "execution_count": 276,
      "outputs": [
        {
          "name": "stdout",
          "text": ">>> TRAINING DATA <<<\n\n> SAMPLE\n\n     mean radius  mean texture  mean perimeter  mean area  mean smoothness  \\\n49         13.49         22.30           86.91      561.0          0.08752   \n564        21.56         22.39          142.00     1479.0          0.11100   \n112        14.26         19.65           97.83      629.9          0.07837   \n50         11.76         21.60           74.72      427.9          0.08637   \n301        12.46         19.89           80.43      471.3          0.08451   \n..           ...           ...             ...        ...              ...   \n448        14.53         19.34           94.25      659.7          0.08388   \n395        14.06         17.18           89.75      609.1          0.08045   \n222        10.18         17.53           65.12      313.1          0.10610   \n545        13.62         23.23           87.19      573.2          0.09246   \n252        19.73         19.82          130.70     1206.0          0.10620   \n\n     mean compactness  mean concavity  mean concave points  mean symmetry  \\\n49            0.07698         0.04751              0.03384         0.1809   \n564           0.11590         0.24390              0.13890         0.1726   \n112           0.22330         0.30030              0.07798         0.1704   \n50            0.04966         0.01657              0.01115         0.1495   \n301           0.10140         0.06830              0.03099         0.1781   \n..                ...             ...                  ...            ...   \n448           0.07800         0.08817              0.02925         0.1473   \n395           0.05361         0.02681              0.03251         0.1641   \n222           0.08502         0.01768              0.01915         0.1910   \n545           0.06747         0.02974              0.02443         0.1664   \n252           0.18490         0.24170              0.09740         0.1733   \n\n     mean fractal dimension  ...  worst radius  worst texture  \\\n49                  0.05718  ...         15.15          31.82   \n564                 0.05623  ...         25.45          26.40   \n112                 0.07769  ...         15.30          23.73   \n50                  0.05888  ...         12.98          25.72   \n301                 0.06249  ...         13.46          23.07   \n..                      ...  ...           ...            ...   \n448                 0.05746  ...         16.30          28.39   \n395                 0.05764  ...         14.92          25.34   \n222                 0.06908  ...         11.17          22.84   \n545                 0.05801  ...         15.35          29.09   \n252                 0.06697  ...         25.28          25.59   \n\n     worst perimeter  worst area  worst smoothness  worst compactness  \\\n49             99.00       698.8           0.11620            0.17110   \n564           166.10      2027.0           0.14100            0.21130   \n112           107.00       709.0           0.08949            0.41930   \n50             82.98       516.5           0.10850            0.08615   \n301            88.13       551.3           0.10500            0.21580   \n..               ...         ...               ...                ...   \n448           108.10       830.5           0.10890            0.26490   \n395            96.42       684.5           0.10660            0.12310   \n222            71.94       375.6           0.14060            0.14400   \n545            97.58       729.8           0.12160            0.15170   \n252           159.80      1933.0           0.17100            0.59550   \n\n     worst concavity  worst concave points  worst symmetry  \\\n49           0.22820               0.12820          0.2871   \n564          0.41070               0.22160          0.2060   \n112          0.67830               0.15050          0.2398   \n50           0.05523               0.03715          0.2433   \n301          0.19040               0.07625          0.2685   \n..               ...                   ...             ...   \n448          0.37790               0.09594          0.2471   \n395          0.08460               0.07911          0.2523   \n222          0.06572               0.05575          0.3055   \n545          0.10490               0.07174          0.2642   \n252          0.84890               0.25070          0.2749   \n\n     worst fractal dimension  \n49                   0.06917  \n564                  0.07115  \n112                  0.10820  \n50                   0.06563  \n301                  0.07764  \n..                       ...  \n448                  0.07463  \n395                  0.06609  \n222                  0.08797  \n545                  0.06953  \n252                  0.12970  \n\n[455 rows x 30 columns]\n\n> TARGET\n\n49     1\n564    0\n112    1\n50     1\n301    1\n      ..\n448    1\n395    1\n222    1\n545    1\n252    0\nName: target, Length: 455, dtype: int32\n",
          "output_type": "stream"
        }
      ]
    },
    {
      "cell_type": "code",
      "source": "print(f\">>> TESTING DATA <<<\")\n\nprint(f\"\\n> SAMPLE\\n\")\nprint(x_test_bc)\n\nprint(f\"\\n> TARGET\\n\")\nprint(y_test_bc)",
      "metadata": {
        "trusted": true
      },
      "execution_count": 277,
      "outputs": [
        {
          "name": "stdout",
          "text": ">>> TESTING DATA <<<\n\n> SAMPLE\n\n     mean radius  mean texture  mean perimeter  mean area  mean smoothness  \\\n408        17.99         20.66          117.80      991.7          0.10360   \n350        11.66         17.07           73.70      421.0          0.07561   \n499        20.59         21.24          137.80     1320.0          0.10850   \n73         13.80         15.79           90.43      584.1          0.10070   \n414        15.13         29.81           96.71      719.5          0.08320   \n..           ...           ...             ...        ...              ...   \n417        15.50         21.08          102.90      803.1          0.11200   \n333        11.25         14.78           71.38      390.0          0.08306   \n213        17.42         25.56          114.50      948.0          0.10060   \n14         13.73         22.61           93.60      578.3          0.11310   \n65         14.78         23.94           97.40      668.3          0.11720   \n\n     mean compactness  mean concavity  mean concave points  mean symmetry  \\\n408           0.13040        0.120100             0.088240         0.1992   \n350           0.03630        0.008306             0.011620         0.1671   \n499           0.16440        0.218800             0.112100         0.1848   \n73            0.12800        0.077890             0.050690         0.1662   \n414           0.04605        0.046860             0.027390         0.1852   \n..                ...             ...                  ...            ...   \n417           0.15710        0.152200             0.084810         0.2085   \n333           0.04458        0.000974             0.002941         0.1773   \n213           0.11460        0.168200             0.065970         0.1308   \n14            0.22930        0.212800             0.080250         0.2069   \n65            0.14790        0.126700             0.090290         0.1953   \n\n     mean fractal dimension  ...  worst radius  worst texture  \\\n408                 0.06069  ...         21.08          25.41   \n350                 0.05731  ...         13.28          19.74   \n499                 0.06222  ...         23.86          30.76   \n73                  0.06566  ...         16.57          20.86   \n414                 0.05294  ...         17.26          36.91   \n..                      ...  ...           ...            ...   \n417                 0.06864  ...         23.17          27.65   \n333                 0.06081  ...         12.76          22.06   \n213                 0.05866  ...         18.07          28.07   \n14                  0.07682  ...         15.03          32.01   \n65                  0.06654  ...         17.31          33.39   \n\n     worst perimeter  worst area  worst smoothness  worst compactness  \\\n408           138.10      1349.0           0.14820            0.37350   \n350            83.61       542.5           0.09958            0.06476   \n499           163.20      1760.0           0.14640            0.35970   \n73            110.30       812.4           0.14110            0.35420   \n414           110.10       931.4           0.11480            0.09866   \n..               ...         ...               ...                ...   \n417           157.10      1748.0           0.15170            0.40020   \n333            82.08       492.7           0.11660            0.09794   \n213           120.40      1021.0           0.12430            0.17930   \n14            108.80       697.7           0.16510            0.77250   \n65            114.60       925.1           0.16480            0.34160   \n\n     worst concavity  worst concave points  worst symmetry  \\\n408         0.330100               0.19740          0.3060   \n350         0.030460               0.04262          0.2731   \n499         0.517900               0.21130          0.2480   \n73          0.277900               0.13830          0.2589   \n414         0.154700               0.06575          0.3233   \n..               ...                   ...             ...   \n417         0.421100               0.21340          0.3003   \n333         0.005518               0.01667          0.2815   \n213         0.280300               0.10990          0.1603   \n14          0.694300               0.22080          0.3596   \n65          0.302400               0.16140          0.3321   \n\n     worst fractal dimension  \n408                  0.08503  \n350                  0.06825  \n499                  0.08999  \n73                   0.10300  \n414                  0.06165  \n..                       ...  \n417                  0.10480  \n333                  0.07418  \n213                  0.06818  \n14                   0.14310  \n65                   0.08911  \n\n[114 rows x 30 columns]\n\n> TARGET\n\n408    0\n350    1\n499    0\n73     0\n414    0\n      ..\n417    0\n333    1\n213    0\n14     0\n65     0\nName: target, Length: 114, dtype: int32\n",
          "output_type": "stream"
        }
      ]
    },
    {
      "cell_type": "code",
      "source": "",
      "metadata": {},
      "execution_count": null,
      "outputs": []
    }
  ]
}